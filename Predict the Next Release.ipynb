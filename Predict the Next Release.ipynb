{
 "cells": [
  {
   "cell_type": "code",
   "execution_count": 59,
   "id": "amazing-revelation",
   "metadata": {},
   "outputs": [],
   "source": [
    "from datetime import datetime\n",
    "from datetime import timedelta\n",
    "\n",
    "import pandas\n",
    "from sklearn.linear_model import LogisticRegression"
   ]
  },
  {
   "cell_type": "code",
   "execution_count": 35,
   "id": "noble-newcastle",
   "metadata": {},
   "outputs": [
    {
     "data": {
      "text/html": [
       "<div>\n",
       "<style scoped>\n",
       "    .dataframe tbody tr th:only-of-type {\n",
       "        vertical-align: middle;\n",
       "    }\n",
       "\n",
       "    .dataframe tbody tr th {\n",
       "        vertical-align: top;\n",
       "    }\n",
       "\n",
       "    .dataframe thead th {\n",
       "        text-align: right;\n",
       "    }\n",
       "</style>\n",
       "<table border=\"1\" class=\"dataframe\">\n",
       "  <thead>\n",
       "    <tr style=\"text-align: right;\">\n",
       "      <th></th>\n",
       "      <th>days_since_previous_release</th>\n",
       "      <th>release_post</th>\n",
       "      <th>date</th>\n",
       "    </tr>\n",
       "    <tr>\n",
       "      <th>id</th>\n",
       "      <th></th>\n",
       "      <th></th>\n",
       "      <th></th>\n",
       "    </tr>\n",
       "  </thead>\n",
       "  <tbody>\n",
       "    <tr>\n",
       "      <th>183</th>\n",
       "      <td>0.0</td>\n",
       "      <td>True</td>\n",
       "      <td>2017-02-17</td>\n",
       "    </tr>\n",
       "    <tr>\n",
       "      <th>197</th>\n",
       "      <td>9.0</td>\n",
       "      <td>True</td>\n",
       "      <td>2017-02-26</td>\n",
       "    </tr>\n",
       "    <tr>\n",
       "      <th>109</th>\n",
       "      <td>20.0</td>\n",
       "      <td>True</td>\n",
       "      <td>2017-03-18</td>\n",
       "    </tr>\n",
       "    <tr>\n",
       "      <th>57</th>\n",
       "      <td>6.0</td>\n",
       "      <td>True</td>\n",
       "      <td>2017-03-24</td>\n",
       "    </tr>\n",
       "    <tr>\n",
       "      <th>196</th>\n",
       "      <td>6.0</td>\n",
       "      <td>True</td>\n",
       "      <td>2017-03-30</td>\n",
       "    </tr>\n",
       "    <tr>\n",
       "      <th>...</th>\n",
       "      <td>...</td>\n",
       "      <td>...</td>\n",
       "      <td>...</td>\n",
       "    </tr>\n",
       "    <tr>\n",
       "      <th>271</th>\n",
       "      <td>5.0</td>\n",
       "      <td>True</td>\n",
       "      <td>2021-01-11</td>\n",
       "    </tr>\n",
       "    <tr>\n",
       "      <th>272</th>\n",
       "      <td>7.0</td>\n",
       "      <td>True</td>\n",
       "      <td>2021-01-18</td>\n",
       "    </tr>\n",
       "    <tr>\n",
       "      <th>273</th>\n",
       "      <td>7.0</td>\n",
       "      <td>True</td>\n",
       "      <td>2021-01-25</td>\n",
       "    </tr>\n",
       "    <tr>\n",
       "      <th>274</th>\n",
       "      <td>5.0</td>\n",
       "      <td>True</td>\n",
       "      <td>2021-01-30</td>\n",
       "    </tr>\n",
       "    <tr>\n",
       "      <th>275</th>\n",
       "      <td>7.0</td>\n",
       "      <td>True</td>\n",
       "      <td>2021-02-06</td>\n",
       "    </tr>\n",
       "  </tbody>\n",
       "</table>\n",
       "<p>188 rows × 3 columns</p>\n",
       "</div>"
      ],
      "text/plain": [
       "     days_since_previous_release  release_post       date\n",
       "id                                                       \n",
       "183                          0.0          True 2017-02-17\n",
       "197                          9.0          True 2017-02-26\n",
       "109                         20.0          True 2017-03-18\n",
       "57                           6.0          True 2017-03-24\n",
       "196                          6.0          True 2017-03-30\n",
       "..                           ...           ...        ...\n",
       "271                          5.0          True 2021-01-11\n",
       "272                          7.0          True 2021-01-18\n",
       "273                          7.0          True 2021-01-25\n",
       "274                          5.0          True 2021-01-30\n",
       "275                          7.0          True 2021-02-06\n",
       "\n",
       "[188 rows x 3 columns]"
      ]
     },
     "execution_count": 35,
     "metadata": {},
     "output_type": "execute_result"
    }
   ],
   "source": [
    "df = pandas.read_csv(\"troon_instagram_clean_post_data.csv\")\n",
    "df = df.set_index(\"id\")\n",
    "df = df[df[\"release_post\"] == True]\n",
    "df = df[[\"post_month\", \"post_day\", \"post_year\", \"days_since_previous_release\", \"release_post\"]].copy()\n",
    "df[\"month\"] = df[\"post_month\"].apply(lambda x : datetime.strptime(x, '%B').month)\n",
    "df = df.rename(columns={\"post_year\" : \"year\", \"post_day\" : \"day\"})\n",
    "df[\"date\"] = pandas.to_datetime(df[[\"year\", \"month\", \"day\"]])\n",
    "del df[\"month\"]\n",
    "del df[\"day\"]\n",
    "del df[\"year\"]\n",
    "del df[\"post_month\"]\n",
    "df"
   ]
  },
  {
   "cell_type": "code",
   "execution_count": 36,
   "id": "modular-seventh",
   "metadata": {},
   "outputs": [
    {
     "data": {
      "text/html": [
       "<div>\n",
       "<style scoped>\n",
       "    .dataframe tbody tr th:only-of-type {\n",
       "        vertical-align: middle;\n",
       "    }\n",
       "\n",
       "    .dataframe tbody tr th {\n",
       "        vertical-align: top;\n",
       "    }\n",
       "\n",
       "    .dataframe thead th {\n",
       "        text-align: right;\n",
       "    }\n",
       "</style>\n",
       "<table border=\"1\" class=\"dataframe\">\n",
       "  <thead>\n",
       "    <tr style=\"text-align: right;\">\n",
       "      <th></th>\n",
       "      <th>days_since_previous_release</th>\n",
       "      <th>release_post</th>\n",
       "      <th>date</th>\n",
       "    </tr>\n",
       "    <tr>\n",
       "      <th>id</th>\n",
       "      <th></th>\n",
       "      <th></th>\n",
       "      <th></th>\n",
       "    </tr>\n",
       "  </thead>\n",
       "  <tbody>\n",
       "  </tbody>\n",
       "</table>\n",
       "</div>"
      ],
      "text/plain": [
       "Empty DataFrame\n",
       "Columns: [days_since_previous_release, release_post, date]\n",
       "Index: []"
      ]
     },
     "execution_count": 36,
     "metadata": {},
     "output_type": "execute_result"
    }
   ],
   "source": [
    "df.query(\"release_post == True & days_since_previous_release.isnull()\")"
   ]
  },
  {
   "cell_type": "code",
   "execution_count": 46,
   "id": "incoming-nutrition",
   "metadata": {},
   "outputs": [
    {
     "data": {
      "text/html": [
       "<div>\n",
       "<style scoped>\n",
       "    .dataframe tbody tr th:only-of-type {\n",
       "        vertical-align: middle;\n",
       "    }\n",
       "\n",
       "    .dataframe tbody tr th {\n",
       "        vertical-align: top;\n",
       "    }\n",
       "\n",
       "    .dataframe thead th {\n",
       "        text-align: right;\n",
       "    }\n",
       "</style>\n",
       "<table border=\"1\" class=\"dataframe\">\n",
       "  <thead>\n",
       "    <tr style=\"text-align: right;\">\n",
       "      <th></th>\n",
       "      <th>days_since_previous_release</th>\n",
       "      <th>release_post</th>\n",
       "      <th>date</th>\n",
       "    </tr>\n",
       "  </thead>\n",
       "  <tbody>\n",
       "    <tr>\n",
       "      <th>0</th>\n",
       "      <td>0.0</td>\n",
       "      <td>True</td>\n",
       "      <td>2017-02-17</td>\n",
       "    </tr>\n",
       "    <tr>\n",
       "      <th>1</th>\n",
       "      <td>1.0</td>\n",
       "      <td>False</td>\n",
       "      <td>2017-02-18</td>\n",
       "    </tr>\n",
       "    <tr>\n",
       "      <th>2</th>\n",
       "      <td>2.0</td>\n",
       "      <td>False</td>\n",
       "      <td>2017-02-19</td>\n",
       "    </tr>\n",
       "    <tr>\n",
       "      <th>3</th>\n",
       "      <td>3.0</td>\n",
       "      <td>False</td>\n",
       "      <td>2017-02-20</td>\n",
       "    </tr>\n",
       "    <tr>\n",
       "      <th>4</th>\n",
       "      <td>4.0</td>\n",
       "      <td>False</td>\n",
       "      <td>2017-02-21</td>\n",
       "    </tr>\n",
       "    <tr>\n",
       "      <th>...</th>\n",
       "      <td>...</td>\n",
       "      <td>...</td>\n",
       "      <td>...</td>\n",
       "    </tr>\n",
       "    <tr>\n",
       "      <th>1446</th>\n",
       "      <td>3.0</td>\n",
       "      <td>False</td>\n",
       "      <td>2021-02-02</td>\n",
       "    </tr>\n",
       "    <tr>\n",
       "      <th>1447</th>\n",
       "      <td>4.0</td>\n",
       "      <td>False</td>\n",
       "      <td>2021-02-03</td>\n",
       "    </tr>\n",
       "    <tr>\n",
       "      <th>1448</th>\n",
       "      <td>5.0</td>\n",
       "      <td>False</td>\n",
       "      <td>2021-02-04</td>\n",
       "    </tr>\n",
       "    <tr>\n",
       "      <th>1449</th>\n",
       "      <td>6.0</td>\n",
       "      <td>False</td>\n",
       "      <td>2021-02-05</td>\n",
       "    </tr>\n",
       "    <tr>\n",
       "      <th>1450</th>\n",
       "      <td>7.0</td>\n",
       "      <td>True</td>\n",
       "      <td>2021-02-06</td>\n",
       "    </tr>\n",
       "  </tbody>\n",
       "</table>\n",
       "<p>1451 rows × 3 columns</p>\n",
       "</div>"
      ],
      "text/plain": [
       "      days_since_previous_release  release_post       date\n",
       "0                             0.0          True 2017-02-17\n",
       "1                             1.0         False 2017-02-18\n",
       "2                             2.0         False 2017-02-19\n",
       "3                             3.0         False 2017-02-20\n",
       "4                             4.0         False 2017-02-21\n",
       "...                           ...           ...        ...\n",
       "1446                          3.0         False 2021-02-02\n",
       "1447                          4.0         False 2021-02-03\n",
       "1448                          5.0         False 2021-02-04\n",
       "1449                          6.0         False 2021-02-05\n",
       "1450                          7.0          True 2021-02-06\n",
       "\n",
       "[1451 rows x 3 columns]"
      ]
     },
     "execution_count": 46,
     "metadata": {},
     "output_type": "execute_result"
    }
   ],
   "source": [
    "filled_in = [dict(df.iloc[0])]\n",
    "# df should already be sorted by date\n",
    "current_date = filled_in[0][\"date\"]\n",
    "days_since_release = filled_in[0][\"days_since_previous_release\"] # should be 0\n",
    "while current_date < df.iloc[-1][\"date\"]:\n",
    "    days_since_release += 1\n",
    "    current_date = current_date + timedelta(days=1)\n",
    "    if len(df[df[\"date\"] == current_date]) == 1:\n",
    "        filled_in.append({\"date\" : current_date, \"release_post\" : True,\n",
    "                          \"days_since_previous_release\" : days_since_release})\n",
    "        days_since_release = 0\n",
    "    else:\n",
    "        filled_in.append({\"date\" : current_date, \"release_post\" : False,\n",
    "                          \"days_since_previous_release\" : days_since_release})\n",
    "        \n",
    "features_df = pandas.DataFrame(filled_in)\n",
    "features_df"
   ]
  },
  {
   "cell_type": "code",
   "execution_count": 48,
   "id": "sharing-usage",
   "metadata": {},
   "outputs": [
    {
     "data": {
      "text/plain": [
       "False    1266\n",
       "True      185\n",
       "Name: release_post, dtype: int64"
      ]
     },
     "execution_count": 48,
     "metadata": {},
     "output_type": "execute_result"
    }
   ],
   "source": [
    "features_df[\"release_post\"].value_counts()"
   ]
  },
  {
   "cell_type": "code",
   "execution_count": 55,
   "id": "smaller-behalf",
   "metadata": {},
   "outputs": [
    {
     "data": {
      "text/html": [
       "<div>\n",
       "<style scoped>\n",
       "    .dataframe tbody tr th:only-of-type {\n",
       "        vertical-align: middle;\n",
       "    }\n",
       "\n",
       "    .dataframe tbody tr th {\n",
       "        vertical-align: top;\n",
       "    }\n",
       "\n",
       "    .dataframe thead th {\n",
       "        text-align: right;\n",
       "    }\n",
       "</style>\n",
       "<table border=\"1\" class=\"dataframe\">\n",
       "  <thead>\n",
       "    <tr style=\"text-align: right;\">\n",
       "      <th></th>\n",
       "      <th>days_since_previous_release</th>\n",
       "      <th>release_post</th>\n",
       "      <th>date</th>\n",
       "      <th>weekday</th>\n",
       "      <th>month</th>\n",
       "    </tr>\n",
       "  </thead>\n",
       "  <tbody>\n",
       "    <tr>\n",
       "      <th>0</th>\n",
       "      <td>0.0</td>\n",
       "      <td>True</td>\n",
       "      <td>2017-02-17</td>\n",
       "      <td>4</td>\n",
       "      <td>2</td>\n",
       "    </tr>\n",
       "    <tr>\n",
       "      <th>1</th>\n",
       "      <td>1.0</td>\n",
       "      <td>False</td>\n",
       "      <td>2017-02-18</td>\n",
       "      <td>5</td>\n",
       "      <td>2</td>\n",
       "    </tr>\n",
       "    <tr>\n",
       "      <th>2</th>\n",
       "      <td>2.0</td>\n",
       "      <td>False</td>\n",
       "      <td>2017-02-19</td>\n",
       "      <td>6</td>\n",
       "      <td>2</td>\n",
       "    </tr>\n",
       "    <tr>\n",
       "      <th>3</th>\n",
       "      <td>3.0</td>\n",
       "      <td>False</td>\n",
       "      <td>2017-02-20</td>\n",
       "      <td>0</td>\n",
       "      <td>2</td>\n",
       "    </tr>\n",
       "    <tr>\n",
       "      <th>4</th>\n",
       "      <td>4.0</td>\n",
       "      <td>False</td>\n",
       "      <td>2017-02-21</td>\n",
       "      <td>1</td>\n",
       "      <td>2</td>\n",
       "    </tr>\n",
       "    <tr>\n",
       "      <th>...</th>\n",
       "      <td>...</td>\n",
       "      <td>...</td>\n",
       "      <td>...</td>\n",
       "      <td>...</td>\n",
       "      <td>...</td>\n",
       "    </tr>\n",
       "    <tr>\n",
       "      <th>1446</th>\n",
       "      <td>3.0</td>\n",
       "      <td>False</td>\n",
       "      <td>2021-02-02</td>\n",
       "      <td>1</td>\n",
       "      <td>2</td>\n",
       "    </tr>\n",
       "    <tr>\n",
       "      <th>1447</th>\n",
       "      <td>4.0</td>\n",
       "      <td>False</td>\n",
       "      <td>2021-02-03</td>\n",
       "      <td>2</td>\n",
       "      <td>2</td>\n",
       "    </tr>\n",
       "    <tr>\n",
       "      <th>1448</th>\n",
       "      <td>5.0</td>\n",
       "      <td>False</td>\n",
       "      <td>2021-02-04</td>\n",
       "      <td>3</td>\n",
       "      <td>2</td>\n",
       "    </tr>\n",
       "    <tr>\n",
       "      <th>1449</th>\n",
       "      <td>6.0</td>\n",
       "      <td>False</td>\n",
       "      <td>2021-02-05</td>\n",
       "      <td>4</td>\n",
       "      <td>2</td>\n",
       "    </tr>\n",
       "    <tr>\n",
       "      <th>1450</th>\n",
       "      <td>7.0</td>\n",
       "      <td>True</td>\n",
       "      <td>2021-02-06</td>\n",
       "      <td>5</td>\n",
       "      <td>2</td>\n",
       "    </tr>\n",
       "  </tbody>\n",
       "</table>\n",
       "<p>1451 rows × 5 columns</p>\n",
       "</div>"
      ],
      "text/plain": [
       "      days_since_previous_release  release_post       date  weekday  month\n",
       "0                             0.0          True 2017-02-17        4      2\n",
       "1                             1.0         False 2017-02-18        5      2\n",
       "2                             2.0         False 2017-02-19        6      2\n",
       "3                             3.0         False 2017-02-20        0      2\n",
       "4                             4.0         False 2017-02-21        1      2\n",
       "...                           ...           ...        ...      ...    ...\n",
       "1446                          3.0         False 2021-02-02        1      2\n",
       "1447                          4.0         False 2021-02-03        2      2\n",
       "1448                          5.0         False 2021-02-04        3      2\n",
       "1449                          6.0         False 2021-02-05        4      2\n",
       "1450                          7.0          True 2021-02-06        5      2\n",
       "\n",
       "[1451 rows x 5 columns]"
      ]
     },
     "execution_count": 55,
     "metadata": {},
     "output_type": "execute_result"
    }
   ],
   "source": [
    "features_df[\"weekday\"] = features_df[\"date\"].apply(lambda x : x.weekday())\n",
    "features_df[\"month\"] = features_df[\"date\"].apply(lambda x : x.month)\n",
    "features_df"
   ]
  },
  {
   "cell_type": "code",
   "execution_count": 57,
   "id": "organizational-certificate",
   "metadata": {},
   "outputs": [],
   "source": [
    "del features_df[\"date\"]"
   ]
  },
  {
   "cell_type": "code",
   "execution_count": 63,
   "id": "generous-tribune",
   "metadata": {},
   "outputs": [
    {
     "name": "stdout",
     "output_type": "stream",
     "text": [
      "1088 363\n"
     ]
    }
   ],
   "source": [
    "train_df = features_df.sample(n=int(len(features_df) * 0.75), random_state=1024)\n",
    "test_df = features_df[~features_df.index.isin(train_df.index)]\n",
    "print(len(train_df), len(test_df))"
   ]
  },
  {
   "cell_type": "code",
   "execution_count": 99,
   "id": "premier-jimmy",
   "metadata": {},
   "outputs": [
    {
     "data": {
      "text/plain": [
       "LogisticRegression(class_weight='balanced', random_state=1024)"
      ]
     },
     "execution_count": 99,
     "metadata": {},
     "output_type": "execute_result"
    }
   ],
   "source": [
    "lr = LogisticRegression(class_weight=\"balanced\", random_state=1024)\n",
    "lr.fit(train_df[[\"days_since_previous_release\", \"weekday\"]], train_df[\"release_post\"])"
   ]
  },
  {
   "cell_type": "code",
   "execution_count": 100,
   "id": "honest-broadway",
   "metadata": {},
   "outputs": [],
   "source": [
    "test_labels = lr.predict(test_df[[\"days_since_previous_release\", \"weekday\"]])"
   ]
  },
  {
   "cell_type": "code",
   "execution_count": 101,
   "id": "otherwise-galaxy",
   "metadata": {},
   "outputs": [],
   "source": [
    "true_pos = 0\n",
    "false_pos = 0\n",
    "false_neg = 0\n",
    "for (gold, predicted) in zip(list(test_df[\"release_post\"]), test_labels):\n",
    "    if gold == predicted and gold == True:\n",
    "        true_pos += 1\n",
    "    elif gold == True and predicted == False:\n",
    "        false_neg += 1\n",
    "    elif gold == False and predicted == True:\n",
    "        false_pos += 1"
   ]
  },
  {
   "cell_type": "code",
   "execution_count": 102,
   "id": "marine-essex",
   "metadata": {},
   "outputs": [
    {
     "data": {
      "text/plain": [
       "0.208955223880597"
      ]
     },
     "execution_count": 102,
     "metadata": {},
     "output_type": "execute_result"
    }
   ],
   "source": [
    "# precision\n",
    "true_pos / (true_pos + false_pos)"
   ]
  },
  {
   "cell_type": "code",
   "execution_count": 103,
   "id": "mobile-halloween",
   "metadata": {},
   "outputs": [
    {
     "data": {
      "text/plain": [
       "0.7368421052631579"
      ]
     },
     "execution_count": 103,
     "metadata": {},
     "output_type": "execute_result"
    }
   ],
   "source": [
    "# recall\n",
    "true_pos / (true_pos + false_neg)"
   ]
  },
  {
   "cell_type": "code",
   "execution_count": null,
   "id": "numeric-university",
   "metadata": {},
   "outputs": [],
   "source": []
  }
 ],
 "metadata": {
  "kernelspec": {
   "display_name": "Python 3",
   "language": "python",
   "name": "python3"
  },
  "language_info": {
   "codemirror_mode": {
    "name": "ipython",
    "version": 3
   },
   "file_extension": ".py",
   "mimetype": "text/x-python",
   "name": "python",
   "nbconvert_exporter": "python",
   "pygments_lexer": "ipython3",
   "version": "3.8.6"
  }
 },
 "nbformat": 4,
 "nbformat_minor": 5
}
