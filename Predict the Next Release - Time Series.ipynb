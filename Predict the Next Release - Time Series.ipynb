{
 "cells": [
  {
   "cell_type": "code",
   "execution_count": 86,
   "id": "amazing-revelation",
   "metadata": {},
   "outputs": [],
   "source": [
    "from datetime import datetime\n",
    "\n",
    "import pandas\n",
    "import matplotlib.pyplot as plt\n",
    "import seaborn as sns\n",
    "from sklearn.metrics import mean_absolute_percentage_error as mape\n",
    "import numpy as np\n",
    "import holidays\n",
    "from sklearn.linear_model import ElasticNetCV\n",
    "from sklearn.preprocessing import StandardScaler\n",
    "\n",
    "%matplotlib inline\n",
    "%config InlineBackend.figure_format = \"retina\"\n",
    "\n",
    "sns.set(rc={\"figure.figsize\" : (20, 10)})\n",
    "sns.set_style(\"ticks\")"
   ]
  },
  {
   "cell_type": "markdown",
   "id": "cb75d1c2",
   "metadata": {},
   "source": [
    "## Load Training and Testing Data"
   ]
  },
  {
   "cell_type": "code",
   "execution_count": 87,
   "id": "noble-newcastle",
   "metadata": {},
   "outputs": [
    {
     "data": {
      "text/html": [
       "<div>\n",
       "<style scoped>\n",
       "    .dataframe tbody tr th:only-of-type {\n",
       "        vertical-align: middle;\n",
       "    }\n",
       "\n",
       "    .dataframe tbody tr th {\n",
       "        vertical-align: top;\n",
       "    }\n",
       "\n",
       "    .dataframe thead th {\n",
       "        text-align: right;\n",
       "    }\n",
       "</style>\n",
       "<table border=\"1\" class=\"dataframe\">\n",
       "  <thead>\n",
       "    <tr style=\"text-align: right;\">\n",
       "      <th></th>\n",
       "      <th>year</th>\n",
       "      <th>days_since_previous_release</th>\n",
       "      <th>release_post</th>\n",
       "      <th>date</th>\n",
       "    </tr>\n",
       "    <tr>\n",
       "      <th>id</th>\n",
       "      <th></th>\n",
       "      <th></th>\n",
       "      <th></th>\n",
       "      <th></th>\n",
       "    </tr>\n",
       "  </thead>\n",
       "  <tbody>\n",
       "    <tr>\n",
       "      <th>50</th>\n",
       "      <td>2016</td>\n",
       "      <td>NaN</td>\n",
       "      <td>False</td>\n",
       "      <td>2016-02-15</td>\n",
       "    </tr>\n",
       "    <tr>\n",
       "      <th>123</th>\n",
       "      <td>2016</td>\n",
       "      <td>NaN</td>\n",
       "      <td>False</td>\n",
       "      <td>2016-02-15</td>\n",
       "    </tr>\n",
       "    <tr>\n",
       "      <th>173</th>\n",
       "      <td>2016</td>\n",
       "      <td>NaN</td>\n",
       "      <td>False</td>\n",
       "      <td>2016-02-15</td>\n",
       "    </tr>\n",
       "    <tr>\n",
       "      <th>156</th>\n",
       "      <td>2016</td>\n",
       "      <td>NaN</td>\n",
       "      <td>False</td>\n",
       "      <td>2016-02-15</td>\n",
       "    </tr>\n",
       "    <tr>\n",
       "      <th>133</th>\n",
       "      <td>2016</td>\n",
       "      <td>NaN</td>\n",
       "      <td>False</td>\n",
       "      <td>2016-02-15</td>\n",
       "    </tr>\n",
       "    <tr>\n",
       "      <th>...</th>\n",
       "      <td>...</td>\n",
       "      <td>...</td>\n",
       "      <td>...</td>\n",
       "      <td>...</td>\n",
       "    </tr>\n",
       "    <tr>\n",
       "      <th>383</th>\n",
       "      <td>2023</td>\n",
       "      <td>8.0</td>\n",
       "      <td>True</td>\n",
       "      <td>2023-01-12</td>\n",
       "    </tr>\n",
       "    <tr>\n",
       "      <th>384</th>\n",
       "      <td>2023</td>\n",
       "      <td>5.0</td>\n",
       "      <td>True</td>\n",
       "      <td>2023-01-18</td>\n",
       "    </tr>\n",
       "    <tr>\n",
       "      <th>385</th>\n",
       "      <td>2023</td>\n",
       "      <td>5.0</td>\n",
       "      <td>True</td>\n",
       "      <td>2023-01-23</td>\n",
       "    </tr>\n",
       "    <tr>\n",
       "      <th>386</th>\n",
       "      <td>2023</td>\n",
       "      <td>4.0</td>\n",
       "      <td>True</td>\n",
       "      <td>2023-01-27</td>\n",
       "    </tr>\n",
       "    <tr>\n",
       "      <th>387</th>\n",
       "      <td>2023</td>\n",
       "      <td>4.0</td>\n",
       "      <td>True</td>\n",
       "      <td>2023-02-01</td>\n",
       "    </tr>\n",
       "  </tbody>\n",
       "</table>\n",
       "<p>388 rows × 4 columns</p>\n",
       "</div>"
      ],
      "text/plain": [
       "     year  days_since_previous_release  release_post       date\n",
       "id                                                             \n",
       "50   2016                          NaN         False 2016-02-15\n",
       "123  2016                          NaN         False 2016-02-15\n",
       "173  2016                          NaN         False 2016-02-15\n",
       "156  2016                          NaN         False 2016-02-15\n",
       "133  2016                          NaN         False 2016-02-15\n",
       "..    ...                          ...           ...        ...\n",
       "383  2023                          8.0          True 2023-01-12\n",
       "384  2023                          5.0          True 2023-01-18\n",
       "385  2023                          5.0          True 2023-01-23\n",
       "386  2023                          4.0          True 2023-01-27\n",
       "387  2023                          4.0          True 2023-02-01\n",
       "\n",
       "[388 rows x 4 columns]"
      ]
     },
     "execution_count": 87,
     "metadata": {},
     "output_type": "execute_result"
    }
   ],
   "source": [
    "df = pandas.read_csv(\"troon_instagram_clean_post_data.csv\")\n",
    "df = df.set_index(\"id\")\n",
    "df = df[[\"post_month\", \"post_day\", \"post_year\", \"days_since_previous_release\",\n",
    "         \"release_post\"]].copy()\n",
    "df[\"month\"] = df[\"post_month\"].apply(lambda x : datetime.strptime(x, '%B').month)\n",
    "df = df.rename(columns={\"post_year\" : \"year\", \"post_day\" : \"day\"})\n",
    "df[\"date\"] = pandas.to_datetime(df[[\"year\", \"month\", \"day\"]])\n",
    "del df[\"post_month\"]\n",
    "del df[\"day\"]\n",
    "del df[\"month\"]\n",
    "df"
   ]
  },
  {
   "cell_type": "code",
   "execution_count": 88,
   "id": "modular-seventh",
   "metadata": {},
   "outputs": [
    {
     "data": {
      "text/html": [
       "<div>\n",
       "<style scoped>\n",
       "    .dataframe tbody tr th:only-of-type {\n",
       "        vertical-align: middle;\n",
       "    }\n",
       "\n",
       "    .dataframe tbody tr th {\n",
       "        vertical-align: top;\n",
       "    }\n",
       "\n",
       "    .dataframe thead th {\n",
       "        text-align: right;\n",
       "    }\n",
       "</style>\n",
       "<table border=\"1\" class=\"dataframe\">\n",
       "  <thead>\n",
       "    <tr style=\"text-align: right;\">\n",
       "      <th></th>\n",
       "      <th>year</th>\n",
       "      <th>days_since_previous_release</th>\n",
       "      <th>release_post</th>\n",
       "      <th>date</th>\n",
       "    </tr>\n",
       "    <tr>\n",
       "      <th>id</th>\n",
       "      <th></th>\n",
       "      <th></th>\n",
       "      <th></th>\n",
       "      <th></th>\n",
       "    </tr>\n",
       "  </thead>\n",
       "  <tbody>\n",
       "  </tbody>\n",
       "</table>\n",
       "</div>"
      ],
      "text/plain": [
       "Empty DataFrame\n",
       "Columns: [year, days_since_previous_release, release_post, date]\n",
       "Index: []"
      ]
     },
     "execution_count": 88,
     "metadata": {},
     "output_type": "execute_result"
    }
   ],
   "source": [
    "df.query(\"release_post == True & days_since_previous_release.isnull()\")"
   ]
  },
  {
   "cell_type": "code",
   "execution_count": 89,
   "id": "stainless-northwest",
   "metadata": {},
   "outputs": [],
   "source": [
    "df = df[df[\"days_since_previous_release\"].notnull()].copy()"
   ]
  },
  {
   "cell_type": "code",
   "execution_count": 90,
   "id": "incoming-nutrition",
   "metadata": {},
   "outputs": [],
   "source": [
    "df = df[df[\"release_post\"] == True].copy()"
   ]
  },
  {
   "cell_type": "code",
   "execution_count": 91,
   "id": "3f9af660",
   "metadata": {},
   "outputs": [],
   "source": [
    "df = df[df[\"days_since_previous_release\"] != 0].copy()"
   ]
  },
  {
   "cell_type": "code",
   "execution_count": 92,
   "id": "69a89473",
   "metadata": {},
   "outputs": [],
   "source": [
    "years = set(df[\"year\"])\n",
    "nj_holidays = holidays.UnitedStates(state=\"NJ\", years=years)\n",
    "nj_holidays.append({\"{}-03-17\".format(y) : \"St. Patrick's Day\" for y in years})\n",
    "nj_holidays.append({\"{}-02-14\".format(y) : \"Valentine's Day\" for y in years})\n",
    "del df[\"year\"]"
   ]
  },
  {
   "cell_type": "code",
   "execution_count": 93,
   "id": "1d9b2adc",
   "metadata": {},
   "outputs": [],
   "source": [
    "# Super Bowls count as holidays as far as beer is concerned lol\n",
    "nj_holidays[\"2016-02-07\"] = \"Super Bowl 50\"\n",
    "nj_holidays[\"2017-02-05\"] = \"Super Bowl LI\"\n",
    "nj_holidays[\"2018-02-04\"] = \"Super Bowl LII\"\n",
    "nj_holidays[\"2019-02-03\"] = \"Super Bowl LIII\"\n",
    "nj_holidays[\"2020-02-02\"] = \"Super Bowl LIV\"\n",
    "nj_holidays[\"2021-02-07\"] = \"Super Bowl LV\"\n",
    "nj_holidays[\"2022-02-13\"] = \"Super Bowl LVI\"\n",
    "nj_holidays[\"2023-02-12\"] = \"Super Bowl LVII\""
   ]
  },
  {
   "cell_type": "code",
   "execution_count": 94,
   "id": "038048a7",
   "metadata": {},
   "outputs": [],
   "source": [
    "df = df.sort_values(by=[\"date\"]).set_index(\"date\")\n",
    "daily = pandas.date_range(df.index.min(), df.index.max(), freq=\"D\")\n",
    "df = df.reindex(daily, method=None)\n",
    "df[\"release_post\"] = df[\"release_post\"].fillna(False)"
   ]
  },
  {
   "cell_type": "code",
   "execution_count": 95,
   "id": "fb59084d",
   "metadata": {},
   "outputs": [
    {
     "data": {
      "text/html": [
       "<div>\n",
       "<style scoped>\n",
       "    .dataframe tbody tr th:only-of-type {\n",
       "        vertical-align: middle;\n",
       "    }\n",
       "\n",
       "    .dataframe tbody tr th {\n",
       "        vertical-align: top;\n",
       "    }\n",
       "\n",
       "    .dataframe thead th {\n",
       "        text-align: right;\n",
       "    }\n",
       "</style>\n",
       "<table border=\"1\" class=\"dataframe\">\n",
       "  <thead>\n",
       "    <tr style=\"text-align: right;\">\n",
       "      <th></th>\n",
       "      <th>index</th>\n",
       "      <th>days_since_previous_release</th>\n",
       "      <th>release_post</th>\n",
       "      <th>days_until_next_release</th>\n",
       "    </tr>\n",
       "  </thead>\n",
       "  <tbody>\n",
       "    <tr>\n",
       "      <th>0</th>\n",
       "      <td>2017-02-26</td>\n",
       "      <td>9.0</td>\n",
       "      <td>True</td>\n",
       "      <td>0.0</td>\n",
       "    </tr>\n",
       "    <tr>\n",
       "      <th>1</th>\n",
       "      <td>2017-02-27</td>\n",
       "      <td>1.0</td>\n",
       "      <td>False</td>\n",
       "      <td>19.0</td>\n",
       "    </tr>\n",
       "    <tr>\n",
       "      <th>2</th>\n",
       "      <td>2017-02-28</td>\n",
       "      <td>2.0</td>\n",
       "      <td>False</td>\n",
       "      <td>18.0</td>\n",
       "    </tr>\n",
       "    <tr>\n",
       "      <th>3</th>\n",
       "      <td>2017-03-01</td>\n",
       "      <td>3.0</td>\n",
       "      <td>False</td>\n",
       "      <td>17.0</td>\n",
       "    </tr>\n",
       "    <tr>\n",
       "      <th>4</th>\n",
       "      <td>2017-03-02</td>\n",
       "      <td>4.0</td>\n",
       "      <td>False</td>\n",
       "      <td>16.0</td>\n",
       "    </tr>\n",
       "    <tr>\n",
       "      <th>...</th>\n",
       "      <td>...</td>\n",
       "      <td>...</td>\n",
       "      <td>...</td>\n",
       "      <td>...</td>\n",
       "    </tr>\n",
       "    <tr>\n",
       "      <th>2162</th>\n",
       "      <td>2023-01-28</td>\n",
       "      <td>1.0</td>\n",
       "      <td>False</td>\n",
       "      <td>4.0</td>\n",
       "    </tr>\n",
       "    <tr>\n",
       "      <th>2163</th>\n",
       "      <td>2023-01-29</td>\n",
       "      <td>2.0</td>\n",
       "      <td>False</td>\n",
       "      <td>3.0</td>\n",
       "    </tr>\n",
       "    <tr>\n",
       "      <th>2164</th>\n",
       "      <td>2023-01-30</td>\n",
       "      <td>3.0</td>\n",
       "      <td>False</td>\n",
       "      <td>2.0</td>\n",
       "    </tr>\n",
       "    <tr>\n",
       "      <th>2165</th>\n",
       "      <td>2023-01-31</td>\n",
       "      <td>4.0</td>\n",
       "      <td>False</td>\n",
       "      <td>1.0</td>\n",
       "    </tr>\n",
       "    <tr>\n",
       "      <th>2166</th>\n",
       "      <td>2023-02-01</td>\n",
       "      <td>4.0</td>\n",
       "      <td>True</td>\n",
       "      <td>0.0</td>\n",
       "    </tr>\n",
       "  </tbody>\n",
       "</table>\n",
       "<p>2167 rows × 4 columns</p>\n",
       "</div>"
      ],
      "text/plain": [
       "          index  days_since_previous_release  release_post  \\\n",
       "0    2017-02-26                          9.0          True   \n",
       "1    2017-02-27                          1.0         False   \n",
       "2    2017-02-28                          2.0         False   \n",
       "3    2017-03-01                          3.0         False   \n",
       "4    2017-03-02                          4.0         False   \n",
       "...         ...                          ...           ...   \n",
       "2162 2023-01-28                          1.0         False   \n",
       "2163 2023-01-29                          2.0         False   \n",
       "2164 2023-01-30                          3.0         False   \n",
       "2165 2023-01-31                          4.0         False   \n",
       "2166 2023-02-01                          4.0          True   \n",
       "\n",
       "      days_until_next_release  \n",
       "0                         0.0  \n",
       "1                        19.0  \n",
       "2                        18.0  \n",
       "3                        17.0  \n",
       "4                        16.0  \n",
       "...                       ...  \n",
       "2162                      4.0  \n",
       "2163                      3.0  \n",
       "2164                      2.0  \n",
       "2165                      1.0  \n",
       "2166                      0.0  \n",
       "\n",
       "[2167 rows x 4 columns]"
      ]
     },
     "execution_count": 95,
     "metadata": {},
     "output_type": "execute_result"
    }
   ],
   "source": [
    "df = df.reset_index()\n",
    "release_dates = list(df[df[\"release_post\"] == True][\"index\"])\n",
    "df[\"closest_release_date\"] = df[\"index\"].apply(lambda x : max([d for d in release_dates if d <= x]))\n",
    "df[\"backfill\"] = (df[\"index\"] - df[\"closest_release_date\"]).astype(\"timedelta64[D]\")\n",
    "df[\"days_since_previous_release\"] = df[\"days_since_previous_release\"].fillna(df[\"backfill\"])\n",
    "del df[\"backfill\"]\n",
    "del df[\"closest_release_date\"]\n",
    "df[\"future_release_date\"] = df[\"index\"].apply(lambda x : min([d for d in release_dates if d >= x]))\n",
    "df[\"days_until_next_release\"] = (df[\"future_release_date\"] - df[\"index\"]).astype(\"timedelta64[D]\")\n",
    "del df[\"future_release_date\"]\n",
    "df"
   ]
  },
  {
   "cell_type": "code",
   "execution_count": 96,
   "id": "f081eaf1",
   "metadata": {},
   "outputs": [],
   "source": [
    "df[\"prob_of_release\"] = (df[\"days_since_previous_release\"] /\n",
    "                         (df[\"days_since_previous_release\"] + df[\"days_until_next_release\"]))\n",
    "del df[\"days_until_next_release\"]"
   ]
  },
  {
   "cell_type": "markdown",
   "id": "68a7a723",
   "metadata": {},
   "source": [
    "## Features"
   ]
  },
  {
   "cell_type": "code",
   "execution_count": 97,
   "id": "5942a97e",
   "metadata": {},
   "outputs": [],
   "source": [
    "def get_features(df):\n",
    "    # in addition to days_since_previous_release\n",
    "    \n",
    "    df[\"month_holidays\"] = df[\"index\"].apply(\n",
    "        lambda x : len([h for h in nj_holidays if h.month == x.month and h.year == x.year]))\n",
    "    \n",
    "    df[\"weekday\"] = df[\"index\"].apply(lambda x : x.strftime(\"%A\"))\n",
    "    df[\"month\"] = df[\"index\"].apply(lambda x : x.strftime(\"%b\"))\n",
    "    \n",
    "    df = pandas.get_dummies(df, columns=[\"weekday\"], prefix=\"WD\")\n",
    "    df = pandas.get_dummies(df, columns=[\"month\"], prefix=\"M\")\n",
    "    \n",
    "    if \"previous_release_post\" not in df.columns:\n",
    "        df[\"previous_release_post\"] = df[\"release_post\"].shift().fillna(False)\n",
    "        df[\"previous_release_post\"] = df[\"previous_release_post\"].apply(int)\n",
    "        del df[\"release_post\"]\n",
    "    \n",
    "    return df"
   ]
  },
  {
   "cell_type": "code",
   "execution_count": 98,
   "id": "0e731335",
   "metadata": {},
   "outputs": [],
   "source": [
    "df = get_features(df)"
   ]
  },
  {
   "cell_type": "code",
   "execution_count": 99,
   "id": "f5c705a2",
   "metadata": {},
   "outputs": [
    {
     "data": {
      "text/plain": [
       "<AxesSubplot: xlabel='prob_of_release', ylabel='Count'>"
      ]
     },
     "execution_count": 99,
     "metadata": {},
     "output_type": "execute_result"
    },
    {
     "data": {
      "image/png": "[encoded data removed]",
      "text/plain": [
       "<Figure size 2000x1000 with 1 Axes>"
      ]
     },
     "metadata": {
      "image/png": {
       "height": 838,
       "width": 1629
      }
     },
     "output_type": "display_data"
    }
   ],
   "source": [
    "sns.histplot(x=df[\"prob_of_release\"])"
   ]
  },
  {
   "cell_type": "markdown",
   "id": "263a6450",
   "metadata": {},
   "source": [
    "## Model-Building and Evaluation"
   ]
  },
  {
   "cell_type": "code",
   "execution_count": 100,
   "id": "3d6009cf",
   "metadata": {},
   "outputs": [
    {
     "name": "stdout",
     "output_type": "stream",
     "text": [
      "1950 217\n"
     ]
    }
   ],
   "source": [
    "train_df = df[0:int(len(df) * 0.90)].copy()\n",
    "test_df = df[~df.index.isin(train_df.index)].copy()\n",
    "print(len(train_df), len(test_df))"
   ]
  },
  {
   "cell_type": "code",
   "execution_count": 101,
   "id": "2bda5175",
   "metadata": {},
   "outputs": [
    {
     "data": {
      "text/plain": [
       "['days_since_previous_release',\n",
       " 'month_holidays',\n",
       " 'WD_Friday',\n",
       " 'WD_Monday',\n",
       " 'WD_Saturday',\n",
       " 'WD_Sunday',\n",
       " 'WD_Thursday',\n",
       " 'WD_Tuesday',\n",
       " 'WD_Wednesday',\n",
       " 'M_Apr',\n",
       " 'M_Aug',\n",
       " 'M_Dec',\n",
       " 'M_Feb',\n",
       " 'M_Jan',\n",
       " 'M_Jul',\n",
       " 'M_Jun',\n",
       " 'M_Mar',\n",
       " 'M_May',\n",
       " 'M_Nov',\n",
       " 'M_Oct',\n",
       " 'M_Sep',\n",
       " 'previous_release_post']"
      ]
     },
     "execution_count": 101,
     "metadata": {},
     "output_type": "execute_result"
    }
   ],
   "source": [
    "features = [c for c in df.columns if c not in [\"index\", \"prob_of_release\", \"release_post\"]]\n",
    "features"
   ]
  },
  {
   "cell_type": "code",
   "execution_count": 102,
   "id": "35409473",
   "metadata": {},
   "outputs": [],
   "source": [
    "scaler = StandardScaler()\n",
    "scaler.fit(train_df[[\"days_since_previous_release\", \"month_holidays\"]])\n",
    "train_df[[\"days_since_previous_release\", \"month_holidays\"]] = scaler.transform(\n",
    "    train_df[[\"days_since_previous_release\", \"month_holidays\"]])\n",
    "test_df[[\"days_since_previous_release\", \"month_holidays\"]] = scaler.transform(\n",
    "    test_df[[\"days_since_previous_release\", \"month_holidays\"]])"
   ]
  },
  {
   "cell_type": "code",
   "execution_count": 103,
   "id": "02fdffa0",
   "metadata": {},
   "outputs": [
    {
     "data": {
      "text/html": [
       "<style>#sk-container-id-4 {color: black;background-color: white;}#sk-container-id-4 pre{padding: 0;}#sk-container-id-4 div.sk-toggleable {background-color: white;}#sk-container-id-4 label.sk-toggleable__label {cursor: pointer;display: block;width: 100%;margin-bottom: 0;padding: 0.3em;box-sizing: border-box;text-align: center;}#sk-container-id-4 label.sk-toggleable__label-arrow:before {content: \"▸\";float: left;margin-right: 0.25em;color: #696969;}#sk-container-id-4 label.sk-toggleable__label-arrow:hover:before {color: black;}#sk-container-id-4 div.sk-estimator:hover label.sk-toggleable__label-arrow:before {color: black;}#sk-container-id-4 div.sk-toggleable__content {max-height: 0;max-width: 0;overflow: hidden;text-align: left;background-color: #f0f8ff;}#sk-container-id-4 div.sk-toggleable__content pre {margin: 0.2em;color: black;border-radius: 0.25em;background-color: #f0f8ff;}#sk-container-id-4 input.sk-toggleable__control:checked~div.sk-toggleable__content {max-height: 200px;max-width: 100%;overflow: auto;}#sk-container-id-4 input.sk-toggleable__control:checked~label.sk-toggleable__label-arrow:before {content: \"▾\";}#sk-container-id-4 div.sk-estimator input.sk-toggleable__control:checked~label.sk-toggleable__label {background-color: #d4ebff;}#sk-container-id-4 div.sk-label input.sk-toggleable__control:checked~label.sk-toggleable__label {background-color: #d4ebff;}#sk-container-id-4 input.sk-hidden--visually {border: 0;clip: rect(1px 1px 1px 1px);clip: rect(1px, 1px, 1px, 1px);height: 1px;margin: -1px;overflow: hidden;padding: 0;position: absolute;width: 1px;}#sk-container-id-4 div.sk-estimator {font-family: monospace;background-color: #f0f8ff;border: 1px dotted black;border-radius: 0.25em;box-sizing: border-box;margin-bottom: 0.5em;}#sk-container-id-4 div.sk-estimator:hover {background-color: #d4ebff;}#sk-container-id-4 div.sk-parallel-item::after {content: \"\";width: 100%;border-bottom: 1px solid gray;flex-grow: 1;}#sk-container-id-4 div.sk-label:hover label.sk-toggleable__label {background-color: #d4ebff;}#sk-container-id-4 div.sk-serial::before {content: \"\";position: absolute;border-left: 1px solid gray;box-sizing: border-box;top: 0;bottom: 0;left: 50%;z-index: 0;}#sk-container-id-4 div.sk-serial {display: flex;flex-direction: column;align-items: center;background-color: white;padding-right: 0.2em;padding-left: 0.2em;position: relative;}#sk-container-id-4 div.sk-item {position: relative;z-index: 1;}#sk-container-id-4 div.sk-parallel {display: flex;align-items: stretch;justify-content: center;background-color: white;position: relative;}#sk-container-id-4 div.sk-item::before, #sk-container-id-4 div.sk-parallel-item::before {content: \"\";position: absolute;border-left: 1px solid gray;box-sizing: border-box;top: 0;bottom: 0;left: 50%;z-index: -1;}#sk-container-id-4 div.sk-parallel-item {display: flex;flex-direction: column;z-index: 1;position: relative;background-color: white;}#sk-container-id-4 div.sk-parallel-item:first-child::after {align-self: flex-end;width: 50%;}#sk-container-id-4 div.sk-parallel-item:last-child::after {align-self: flex-start;width: 50%;}#sk-container-id-4 div.sk-parallel-item:only-child::after {width: 0;}#sk-container-id-4 div.sk-dashed-wrapped {border: 1px dashed gray;margin: 0 0.4em 0.5em 0.4em;box-sizing: border-box;padding-bottom: 0.4em;background-color: white;}#sk-container-id-4 div.sk-label label {font-family: monospace;font-weight: bold;display: inline-block;line-height: 1.2em;}#sk-container-id-4 div.sk-label-container {text-align: center;}#sk-container-id-4 div.sk-container {/* jupyter's `normalize.less` sets `[hidden] { display: none; }` but bootstrap.min.css set `[hidden] { display: none !important; }` so we also need the `!important` here to be able to override the default hidden behavior on the sphinx rendered scikit-learn.org. See: https://github.com/scikit-learn/scikit-learn/issues/21755 */display: inline-block !important;position: relative;}#sk-container-id-4 div.sk-text-repr-fallback {display: none;}</style><div id=\"sk-container-id-4\" class=\"sk-top-container\"><div class=\"sk-text-repr-fallback\"><pre>ElasticNetCV(cv=3,\n",
       "             l1_ratio=[1e-05, 0.0001, 0.001, 0.1, 0.5, 0.7, 0.9, 0.95, 0.99, 1],\n",
       "             random_state=1024)</pre><b>In a Jupyter environment, please rerun this cell to show the HTML representation or trust the notebook. <br />On GitHub, the HTML representation is unable to render, please try loading this page with nbviewer.org.</b></div><div class=\"sk-container\" hidden><div class=\"sk-item\"><div class=\"sk-estimator sk-toggleable\"><input class=\"sk-toggleable__control sk-hidden--visually\" id=\"sk-estimator-id-4\" type=\"checkbox\" checked><label for=\"sk-estimator-id-4\" class=\"sk-toggleable__label sk-toggleable__label-arrow\">ElasticNetCV</label><div class=\"sk-toggleable__content\"><pre>ElasticNetCV(cv=3,\n",
       "             l1_ratio=[1e-05, 0.0001, 0.001, 0.1, 0.5, 0.7, 0.9, 0.95, 0.99, 1],\n",
       "             random_state=1024)</pre></div></div></div></div></div>"
      ],
      "text/plain": [
       "ElasticNetCV(cv=3,\n",
       "             l1_ratio=[1e-05, 0.0001, 0.001, 0.1, 0.5, 0.7, 0.9, 0.95, 0.99, 1],\n",
       "             random_state=1024)"
      ]
     },
     "execution_count": 103,
     "metadata": {},
     "output_type": "execute_result"
    }
   ],
   "source": [
    "reg = ElasticNetCV(l1_ratio=[0.00001, 0.0001, 0.001, 0.1, .5, .7, .9, .95, .99, 1],\n",
    "                   # scoring=\"neg_mean_absolute_percentage_error\",\n",
    "                   cv=3, random_state=1024)\n",
    "reg.fit(train_df[features], train_df[\"prob_of_release\"])"
   ]
  },
  {
   "cell_type": "code",
   "execution_count": 104,
   "id": "a86841b0",
   "metadata": {},
   "outputs": [
    {
     "data": {
      "text/plain": [
       "1.0"
      ]
     },
     "execution_count": 104,
     "metadata": {},
     "output_type": "execute_result"
    }
   ],
   "source": [
    "reg.l1_ratio_"
   ]
  },
  {
   "cell_type": "code",
   "execution_count": 105,
   "id": "5b23702f",
   "metadata": {},
   "outputs": [
    {
     "data": {
      "text/plain": [
       "0.002473857276004983"
      ]
     },
     "execution_count": 105,
     "metadata": {},
     "output_type": "execute_result"
    }
   ],
   "source": [
    "reg.alpha_"
   ]
  },
  {
   "cell_type": "code",
   "execution_count": 106,
   "id": "02e79171",
   "metadata": {},
   "outputs": [],
   "source": [
    "test_df[\"predicted\"] = reg.predict(test_df[features])"
   ]
  },
  {
   "cell_type": "code",
   "execution_count": 107,
   "id": "9fe3ad7f",
   "metadata": {},
   "outputs": [
    {
     "data": {
      "text/plain": [
       "0.2807323361703682"
      ]
     },
     "execution_count": 107,
     "metadata": {},
     "output_type": "execute_result"
    }
   ],
   "source": [
    "mape(test_df[\"prob_of_release\"], test_df[\"predicted\"])"
   ]
  },
  {
   "cell_type": "code",
   "execution_count": 108,
   "id": "c549dce2",
   "metadata": {},
   "outputs": [
    {
     "data": {
      "text/plain": [
       "<AxesSubplot: xlabel='predicted', ylabel='residuals'>"
      ]
     },
     "execution_count": 108,
     "metadata": {},
     "output_type": "execute_result"
    },
    {
     "data": {
      "image/png": "[encoded data removed]",
      "text/plain": [
       "<Figure size 2000x1000 with 1 Axes>"
      ]
     },
     "metadata": {
      "image/png": {
       "height": 838,
       "width": 1634
      }
     },
     "output_type": "display_data"
    }
   ],
   "source": [
    "test_df[\"residuals\"] = test_df[\"predicted\"] - test_df[\"prob_of_release\"]\n",
    "sns.scatterplot(data=test_df, x=\"predicted\", y=\"residuals\", s=75)"
   ]
  },
  {
   "cell_type": "code",
   "execution_count": 109,
   "id": "d7e643c3",
   "metadata": {},
   "outputs": [
    {
     "data": {
      "text/plain": [
       "[('days_since_previous_release', 0.1676364249393147),\n",
       " ('WD_Wednesday', 0.017935756034461157),\n",
       " ('WD_Thursday', 0.01193522851697086),\n",
       " ('month_holidays', 0.0005342453559807456),\n",
       " ('WD_Friday', 0.0),\n",
       " ('WD_Saturday', -0.0),\n",
       " ('WD_Tuesday', 0.0),\n",
       " ('M_Apr', 0.0),\n",
       " ('M_Dec', -0.0),\n",
       " ('M_Feb', -0.0),\n",
       " ('M_Jan', 0.0),\n",
       " ('M_Jul', 0.0),\n",
       " ('M_Jun', 0.0),\n",
       " ('M_May', -0.0),\n",
       " ('M_Nov', 0.0),\n",
       " ('M_Oct', 0.0),\n",
       " ('M_Sep', 0.0),\n",
       " ('M_Aug', -0.0047868150517064376),\n",
       " ('WD_Monday', -0.010413030891062039),\n",
       " ('WD_Sunday', -0.01087510325594148),\n",
       " ('M_Mar', -0.017746992568288527),\n",
       " ('previous_release_post', -0.18971911080689283)]"
      ]
     },
     "execution_count": 109,
     "metadata": {},
     "output_type": "execute_result"
    }
   ],
   "source": [
    "sorted(zip(reg.feature_names_in_, reg.coef_), key=lambda x : x[1], reverse=True)"
   ]
  },
  {
   "cell_type": "code",
   "execution_count": 110,
   "id": "84f01d30",
   "metadata": {},
   "outputs": [
    {
     "data": {
      "text/html": [
       "<div>\n",
       "<style scoped>\n",
       "    .dataframe tbody tr th:only-of-type {\n",
       "        vertical-align: middle;\n",
       "    }\n",
       "\n",
       "    .dataframe tbody tr th {\n",
       "        vertical-align: top;\n",
       "    }\n",
       "\n",
       "    .dataframe thead th {\n",
       "        text-align: right;\n",
       "    }\n",
       "</style>\n",
       "<table border=\"1\" class=\"dataframe\">\n",
       "  <thead>\n",
       "    <tr style=\"text-align: right;\">\n",
       "      <th></th>\n",
       "      <th>prob_of_release</th>\n",
       "      <th>predicted</th>\n",
       "      <th>residuals</th>\n",
       "    </tr>\n",
       "  </thead>\n",
       "  <tbody>\n",
       "    <tr>\n",
       "      <th>1965</th>\n",
       "      <td>1.000000</td>\n",
       "      <td>0.393046</td>\n",
       "      <td>-0.606954</td>\n",
       "    </tr>\n",
       "    <tr>\n",
       "      <th>2112</th>\n",
       "      <td>1.000000</td>\n",
       "      <td>0.393519</td>\n",
       "      <td>-0.606481</td>\n",
       "    </tr>\n",
       "    <tr>\n",
       "      <th>2091</th>\n",
       "      <td>1.000000</td>\n",
       "      <td>0.393991</td>\n",
       "      <td>-0.606009</td>\n",
       "    </tr>\n",
       "    <tr>\n",
       "      <th>2028</th>\n",
       "      <td>1.000000</td>\n",
       "      <td>0.491672</td>\n",
       "      <td>-0.508328</td>\n",
       "    </tr>\n",
       "    <tr>\n",
       "      <th>2014</th>\n",
       "      <td>1.000000</td>\n",
       "      <td>0.491672</td>\n",
       "      <td>-0.508328</td>\n",
       "    </tr>\n",
       "    <tr>\n",
       "      <th>...</th>\n",
       "      <td>...</td>\n",
       "      <td>...</td>\n",
       "      <td>...</td>\n",
       "    </tr>\n",
       "    <tr>\n",
       "      <th>2064</th>\n",
       "      <td>0.250000</td>\n",
       "      <td>0.442359</td>\n",
       "      <td>0.192359</td>\n",
       "    </tr>\n",
       "    <tr>\n",
       "      <th>2098</th>\n",
       "      <td>0.250000</td>\n",
       "      <td>0.443304</td>\n",
       "      <td>0.193304</td>\n",
       "    </tr>\n",
       "    <tr>\n",
       "      <th>2140</th>\n",
       "      <td>0.250000</td>\n",
       "      <td>0.443304</td>\n",
       "      <td>0.193304</td>\n",
       "    </tr>\n",
       "    <tr>\n",
       "      <th>1951</th>\n",
       "      <td>0.222222</td>\n",
       "      <td>0.442359</td>\n",
       "      <td>0.220137</td>\n",
       "    </tr>\n",
       "    <tr>\n",
       "      <th>2126</th>\n",
       "      <td>0.222222</td>\n",
       "      <td>0.442832</td>\n",
       "      <td>0.220609</td>\n",
       "    </tr>\n",
       "  </tbody>\n",
       "</table>\n",
       "<p>217 rows × 3 columns</p>\n",
       "</div>"
      ],
      "text/plain": [
       "      prob_of_release  predicted  residuals\n",
       "1965         1.000000   0.393046  -0.606954\n",
       "2112         1.000000   0.393519  -0.606481\n",
       "2091         1.000000   0.393991  -0.606009\n",
       "2028         1.000000   0.491672  -0.508328\n",
       "2014         1.000000   0.491672  -0.508328\n",
       "...               ...        ...        ...\n",
       "2064         0.250000   0.442359   0.192359\n",
       "2098         0.250000   0.443304   0.193304\n",
       "2140         0.250000   0.443304   0.193304\n",
       "1951         0.222222   0.442359   0.220137\n",
       "2126         0.222222   0.442832   0.220609\n",
       "\n",
       "[217 rows x 3 columns]"
      ]
     },
     "execution_count": 110,
     "metadata": {},
     "output_type": "execute_result"
    }
   ],
   "source": [
    "test_df[[\"prob_of_release\", \"predicted\", \"residuals\"]].sort_values(by=[\"residuals\"])"
   ]
  },
  {
   "cell_type": "markdown",
   "id": "92d37df1",
   "metadata": {},
   "source": [
    "## Predictions for the Next Month"
   ]
  },
  {
   "cell_type": "code",
   "execution_count": 111,
   "id": "aee2f210",
   "metadata": {},
   "outputs": [],
   "source": [
    "last_release_date = test_df[test_df[\"prob_of_release\"] == 1][-1:].iloc[0][\"index\"]\n",
    "next_week = pandas.DataFrame([{\"index\" : t} for t in \n",
    "                              pandas.date_range(start=last_release_date, freq=\"1D\", periods=31)])\n",
    "next_week = next_week[1:].copy()\n",
    "next_week[\"days_since_previous_release\"] = range(1, len(next_week) + 1)\n",
    "next_week[\"previous_release_post\"] = [1] + [0] * 29\n",
    "next_week = get_features(next_week)\n",
    "\n",
    "for f in features:\n",
    "    if f not in next_week.columns:\n",
    "        next_week[f] = 0\n",
    "        \n",
    "next_week[[\"days_since_previous_release\", \"month_holidays\"]] = scaler.transform(\n",
    "    next_week[[\"days_since_previous_release\", \"month_holidays\"]])"
   ]
  },
  {
   "cell_type": "code",
   "execution_count": 112,
   "id": "01d8fad4",
   "metadata": {},
   "outputs": [],
   "source": [
    "next_week[\"predicted\"] = reg.predict(next_week[features])"
   ]
  },
  {
   "cell_type": "code",
   "execution_count": 113,
   "id": "162572ad",
   "metadata": {},
   "outputs": [
    {
     "data": {
      "text/html": [
       "<div>\n",
       "<style scoped>\n",
       "    .dataframe tbody tr th:only-of-type {\n",
       "        vertical-align: middle;\n",
       "    }\n",
       "\n",
       "    .dataframe tbody tr th {\n",
       "        vertical-align: top;\n",
       "    }\n",
       "\n",
       "    .dataframe thead th {\n",
       "        text-align: right;\n",
       "    }\n",
       "</style>\n",
       "<table border=\"1\" class=\"dataframe\">\n",
       "  <thead>\n",
       "    <tr style=\"text-align: right;\">\n",
       "      <th></th>\n",
       "      <th>index</th>\n",
       "      <th>predicted</th>\n",
       "    </tr>\n",
       "  </thead>\n",
       "  <tbody>\n",
       "    <tr>\n",
       "      <th>1</th>\n",
       "      <td>2023-02-02</td>\n",
       "      <td>0.216680</td>\n",
       "    </tr>\n",
       "    <tr>\n",
       "      <th>2</th>\n",
       "      <td>2023-02-03</td>\n",
       "      <td>0.443777</td>\n",
       "    </tr>\n",
       "    <tr>\n",
       "      <th>3</th>\n",
       "      <td>2023-02-04</td>\n",
       "      <td>0.493090</td>\n",
       "    </tr>\n",
       "    <tr>\n",
       "      <th>4</th>\n",
       "      <td>2023-02-05</td>\n",
       "      <td>0.531527</td>\n",
       "    </tr>\n",
       "    <tr>\n",
       "      <th>5</th>\n",
       "      <td>2023-02-06</td>\n",
       "      <td>0.581302</td>\n",
       "    </tr>\n",
       "    <tr>\n",
       "      <th>6</th>\n",
       "      <td>2023-02-07</td>\n",
       "      <td>0.641028</td>\n",
       "    </tr>\n",
       "    <tr>\n",
       "      <th>7</th>\n",
       "      <td>2023-02-08</td>\n",
       "      <td>0.708277</td>\n",
       "    </tr>\n",
       "    <tr>\n",
       "      <th>8</th>\n",
       "      <td>2023-02-09</td>\n",
       "      <td>0.751589</td>\n",
       "    </tr>\n",
       "    <tr>\n",
       "      <th>9</th>\n",
       "      <td>2023-02-10</td>\n",
       "      <td>0.788967</td>\n",
       "    </tr>\n",
       "    <tr>\n",
       "      <th>10</th>\n",
       "      <td>2023-02-11</td>\n",
       "      <td>0.838279</td>\n",
       "    </tr>\n",
       "    <tr>\n",
       "      <th>11</th>\n",
       "      <td>2023-02-12</td>\n",
       "      <td>0.876717</td>\n",
       "    </tr>\n",
       "    <tr>\n",
       "      <th>12</th>\n",
       "      <td>2023-02-13</td>\n",
       "      <td>0.926492</td>\n",
       "    </tr>\n",
       "    <tr>\n",
       "      <th>13</th>\n",
       "      <td>2023-02-14</td>\n",
       "      <td>0.986218</td>\n",
       "    </tr>\n",
       "    <tr>\n",
       "      <th>14</th>\n",
       "      <td>2023-02-15</td>\n",
       "      <td>1.053467</td>\n",
       "    </tr>\n",
       "    <tr>\n",
       "      <th>15</th>\n",
       "      <td>2023-02-16</td>\n",
       "      <td>1.096779</td>\n",
       "    </tr>\n",
       "    <tr>\n",
       "      <th>16</th>\n",
       "      <td>2023-02-17</td>\n",
       "      <td>1.134157</td>\n",
       "    </tr>\n",
       "    <tr>\n",
       "      <th>17</th>\n",
       "      <td>2023-02-18</td>\n",
       "      <td>1.183469</td>\n",
       "    </tr>\n",
       "    <tr>\n",
       "      <th>18</th>\n",
       "      <td>2023-02-19</td>\n",
       "      <td>1.221907</td>\n",
       "    </tr>\n",
       "    <tr>\n",
       "      <th>19</th>\n",
       "      <td>2023-02-20</td>\n",
       "      <td>1.271682</td>\n",
       "    </tr>\n",
       "    <tr>\n",
       "      <th>20</th>\n",
       "      <td>2023-02-21</td>\n",
       "      <td>1.331408</td>\n",
       "    </tr>\n",
       "    <tr>\n",
       "      <th>21</th>\n",
       "      <td>2023-02-22</td>\n",
       "      <td>1.398657</td>\n",
       "    </tr>\n",
       "    <tr>\n",
       "      <th>22</th>\n",
       "      <td>2023-02-23</td>\n",
       "      <td>1.441969</td>\n",
       "    </tr>\n",
       "    <tr>\n",
       "      <th>23</th>\n",
       "      <td>2023-02-24</td>\n",
       "      <td>1.479347</td>\n",
       "    </tr>\n",
       "    <tr>\n",
       "      <th>24</th>\n",
       "      <td>2023-02-25</td>\n",
       "      <td>1.528659</td>\n",
       "    </tr>\n",
       "    <tr>\n",
       "      <th>25</th>\n",
       "      <td>2023-02-26</td>\n",
       "      <td>1.567097</td>\n",
       "    </tr>\n",
       "    <tr>\n",
       "      <th>26</th>\n",
       "      <td>2023-02-27</td>\n",
       "      <td>1.616872</td>\n",
       "    </tr>\n",
       "    <tr>\n",
       "      <th>27</th>\n",
       "      <td>2023-02-28</td>\n",
       "      <td>1.676598</td>\n",
       "    </tr>\n",
       "    <tr>\n",
       "      <th>28</th>\n",
       "      <td>2023-03-01</td>\n",
       "      <td>1.724682</td>\n",
       "    </tr>\n",
       "    <tr>\n",
       "      <th>29</th>\n",
       "      <td>2023-03-02</td>\n",
       "      <td>1.767995</td>\n",
       "    </tr>\n",
       "    <tr>\n",
       "      <th>30</th>\n",
       "      <td>2023-03-03</td>\n",
       "      <td>1.805372</td>\n",
       "    </tr>\n",
       "  </tbody>\n",
       "</table>\n",
       "</div>"
      ],
      "text/plain": [
       "        index  predicted\n",
       "1  2023-02-02   0.216680\n",
       "2  2023-02-03   0.443777\n",
       "3  2023-02-04   0.493090\n",
       "4  2023-02-05   0.531527\n",
       "5  2023-02-06   0.581302\n",
       "6  2023-02-07   0.641028\n",
       "7  2023-02-08   0.708277\n",
       "8  2023-02-09   0.751589\n",
       "9  2023-02-10   0.788967\n",
       "10 2023-02-11   0.838279\n",
       "11 2023-02-12   0.876717\n",
       "12 2023-02-13   0.926492\n",
       "13 2023-02-14   0.986218\n",
       "14 2023-02-15   1.053467\n",
       "15 2023-02-16   1.096779\n",
       "16 2023-02-17   1.134157\n",
       "17 2023-02-18   1.183469\n",
       "18 2023-02-19   1.221907\n",
       "19 2023-02-20   1.271682\n",
       "20 2023-02-21   1.331408\n",
       "21 2023-02-22   1.398657\n",
       "22 2023-02-23   1.441969\n",
       "23 2023-02-24   1.479347\n",
       "24 2023-02-25   1.528659\n",
       "25 2023-02-26   1.567097\n",
       "26 2023-02-27   1.616872\n",
       "27 2023-02-28   1.676598\n",
       "28 2023-03-01   1.724682\n",
       "29 2023-03-02   1.767995\n",
       "30 2023-03-03   1.805372"
      ]
     },
     "execution_count": 113,
     "metadata": {},
     "output_type": "execute_result"
    }
   ],
   "source": [
    "next_week[[\"index\", \"predicted\"]]"
   ]
  },
  {
   "cell_type": "code",
   "execution_count": null,
   "id": "1fd68ab5",
   "metadata": {},
   "outputs": [],
   "source": []
  }
 ],
 "metadata": {
  "kernelspec": {
   "display_name": "Python 3 (ipykernel)",
   "language": "python",
   "name": "python3"
  },
  "language_info": {
   "codemirror_mode": {
    "name": "ipython",
    "version": 3
   },
   "file_extension": ".py",
   "mimetype": "text/x-python",
   "name": "python",
   "nbconvert_exporter": "python",
   "pygments_lexer": "ipython3",
   "version": "3.10.8"
  }
 },
 "nbformat": 4,
 "nbformat_minor": 5
}
