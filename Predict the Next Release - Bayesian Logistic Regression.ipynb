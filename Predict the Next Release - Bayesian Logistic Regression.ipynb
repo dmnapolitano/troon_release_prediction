{
 "cells": [
  {
   "cell_type": "code",
   "execution_count": 2,
   "id": "amazing-revelation",
   "metadata": {},
   "outputs": [],
   "source": [
    "from datetime import datetime\n",
    "import warnings\n",
    "import os\n",
    "from collections import Counter\n",
    "\n",
    "import pandas\n",
    "import matplotlib.pyplot as plt\n",
    "import seaborn as sns\n",
    "import numpy as np\n",
    "import pymc as pm\n",
    "import arviz as az\n",
    "from scipy.stats import mode\n",
    "\n",
    "from get_model_training_data_05 import get_features_and_data\n",
    "\n",
    "%matplotlib inline\n",
    "%config InlineBackend.figure_format = \"retina\"\n",
    "\n",
    "sns.set(rc={\"figure.figsize\" : (25, 15)})\n",
    "sns.set(font_scale=2)\n",
    "sns.set_style(\"ticks\")\n",
    "\n",
    "warnings.filterwarnings(\"ignore\")\n",
    "os.environ[\"PYTHONWARNINGS\"] = \"ignore\""
   ]
  },
  {
   "cell_type": "code",
   "execution_count": 39,
   "id": "2341f270-e3a8-468b-98ba-850dc069d67d",
   "metadata": {},
   "outputs": [],
   "source": [
    "%load_ext autoreload\n",
    "%autoreload 2"
   ]
  },
  {
   "cell_type": "code",
   "execution_count": 4,
   "id": "f742a07f-a6d8-41c9-9cbf-46b2e5529049",
   "metadata": {},
   "outputs": [],
   "source": [
    "def precision_and_recall(df, true_col=\"release\", pred_col=\"release_pred\"):\n",
    "    true_positives = len(df[(df[true_col] == 1) & (df[pred_col] == 1)])\n",
    "    false_positives = len(df[(df[true_col] != 1) & (df[pred_col] == 1)])\n",
    "    false_negatives = len(df[(df[true_col] == 1) & (df[pred_col] != 1)])\n",
    "\n",
    "    return (np.round(true_positives / (true_positives + false_positives), 3),\n",
    "            np.round(true_positives / (true_positives + false_negatives), 3))"
   ]
  },
  {
   "cell_type": "markdown",
   "id": "cb75d1c2",
   "metadata": {},
   "source": [
    "## Load Training and Testing Data"
   ]
  },
  {
   "cell_type": "code",
   "execution_count": 111,
   "id": "noble-newcastle",
   "metadata": {},
   "outputs": [
    {
     "name": "stdout",
     "output_type": "stream",
     "text": [
      "training examples = 2500, testing examples = 325\n"
     ]
    }
   ],
   "source": [
    "(df, train_df, test_df, feature_names, next_two_weeks) = get_features_and_data()"
   ]
  },
  {
   "cell_type": "code",
   "execution_count": 112,
   "id": "6f0081db-60ab-4677-a559-d30633a832aa",
   "metadata": {},
   "outputs": [
    {
     "data": {
      "text/plain": [
       "['days_since_previous_release',\n",
       " 'month_holidays',\n",
       " 'WD_Monday',\n",
       " 'WD_Saturday',\n",
       " 'WD_Sunday',\n",
       " 'WD_Thursday',\n",
       " 'WD_Tuesday',\n",
       " 'WD_Wednesday',\n",
       " 'previous_release',\n",
       " 'previous_days_since_previous_release']"
      ]
     },
     "execution_count": 112,
     "metadata": {},
     "output_type": "execute_result"
    }
   ],
   "source": [
    "feature_names"
   ]
  },
  {
   "cell_type": "code",
   "execution_count": 113,
   "id": "8d55a859-c42e-40f1-81c2-221b3f963944",
   "metadata": {},
   "outputs": [
    {
     "data": {
      "text/plain": [
       "release\n",
       "0    2150\n",
       "1     350\n",
       "Name: count, dtype: Int64"
      ]
     },
     "execution_count": 113,
     "metadata": {},
     "output_type": "execute_result"
    }
   ],
   "source": [
    "train_df[\"release\"].value_counts()"
   ]
  },
  {
   "cell_type": "code",
   "execution_count": 114,
   "id": "6f24da0e-c649-4ea7-8ebf-ed082b1bf277",
   "metadata": {},
   "outputs": [
    {
     "data": {
      "text/html": [
       "<div>\n",
       "<style scoped>\n",
       "    .dataframe tbody tr th:only-of-type {\n",
       "        vertical-align: middle;\n",
       "    }\n",
       "\n",
       "    .dataframe tbody tr th {\n",
       "        vertical-align: top;\n",
       "    }\n",
       "\n",
       "    .dataframe thead th {\n",
       "        text-align: right;\n",
       "    }\n",
       "</style>\n",
       "<table border=\"1\" class=\"dataframe\">\n",
       "  <thead>\n",
       "    <tr style=\"text-align: right;\">\n",
       "      <th>release</th>\n",
       "      <th>0</th>\n",
       "      <th>1</th>\n",
       "    </tr>\n",
       "    <tr>\n",
       "      <th>year</th>\n",
       "      <th></th>\n",
       "      <th></th>\n",
       "    </tr>\n",
       "  </thead>\n",
       "  <tbody>\n",
       "    <tr>\n",
       "      <th>2017</th>\n",
       "      <td>270</td>\n",
       "      <td>39</td>\n",
       "    </tr>\n",
       "    <tr>\n",
       "      <th>2018</th>\n",
       "      <td>323</td>\n",
       "      <td>42</td>\n",
       "    </tr>\n",
       "    <tr>\n",
       "      <th>2019</th>\n",
       "      <td>312</td>\n",
       "      <td>53</td>\n",
       "    </tr>\n",
       "    <tr>\n",
       "      <th>2020</th>\n",
       "      <td>320</td>\n",
       "      <td>46</td>\n",
       "    </tr>\n",
       "    <tr>\n",
       "      <th>2021</th>\n",
       "      <td>310</td>\n",
       "      <td>55</td>\n",
       "    </tr>\n",
       "    <tr>\n",
       "      <th>2022</th>\n",
       "      <td>308</td>\n",
       "      <td>57</td>\n",
       "    </tr>\n",
       "    <tr>\n",
       "      <th>2023</th>\n",
       "      <td>307</td>\n",
       "      <td>58</td>\n",
       "    </tr>\n",
       "  </tbody>\n",
       "</table>\n",
       "</div>"
      ],
      "text/plain": [
       "release    0   1\n",
       "year            \n",
       "2017     270  39\n",
       "2018     323  42\n",
       "2019     312  53\n",
       "2020     320  46\n",
       "2021     310  55\n",
       "2022     308  57\n",
       "2023     307  58"
      ]
     },
     "execution_count": 114,
     "metadata": {},
     "output_type": "execute_result"
    }
   ],
   "source": [
    "train_df.groupby([\"year\", \"release\"]).size().reset_index().pivot(index=\"year\", columns=\"release\", values=0)"
   ]
  },
  {
   "cell_type": "markdown",
   "id": "7d86f47c-5c70-44b8-aa79-da5331f5e90f",
   "metadata": {},
   "source": [
    "## Model-Building and Evaluation"
   ]
  },
  {
   "cell_type": "code",
   "execution_count": 115,
   "id": "b8e99182-9c19-4c05-9901-c14fbbe51482",
   "metadata": {},
   "outputs": [],
   "source": [
    "with pm.Model() as model:\n",
    "    # data\n",
    "    features = pm.MutableData(\"features\", train_df[feature_names].T)\n",
    "    # priors\n",
    "    weights = pm.Normal(\"weights\", mu=0, sigma=1, shape=len(feature_names))\n",
    "    beta0 = pm.Normal(\"beta0\", mu=0, sigma=1)\n",
    "    # linear model\n",
    "    release_prob = pm.math.invlogit(beta0 + pm.math.dot(weights, features))\n",
    "    release = pm.Bernoulli(\n",
    "        \"release\",\n",
    "        p=release_prob,\n",
    "        observed=train_df[\"release\"].values,\n",
    "        shape=features.shape[1],\n",
    "    )"
   ]
  },
  {
   "cell_type": "code",
   "execution_count": 116,
   "id": "df4bdeab-fae6-4d22-9ea6-038e66160a49",
   "metadata": {},
   "outputs": [
    {
     "name": "stderr",
     "output_type": "stream",
     "text": [
      "Auto-assigning NUTS sampler...\n",
      "Initializing NUTS using jitter+adapt_diag...\n",
      "Multiprocess sampling (4 chains in 4 jobs)\n",
      "NUTS: [weights, beta0]\n"
     ]
    },
    {
     "data": {
      "application/vnd.jupyter.widget-view+json": {
       "model_id": "f4a186f41c094238b053948793fdbdc1",
       "version_major": 2,
       "version_minor": 0
      },
      "text/plain": [
       "Output()"
      ]
     },
     "metadata": {},
     "output_type": "display_data"
    },
    {
     "data": {
      "text/html": [
       "<pre style=\"white-space:pre;overflow-x:auto;line-height:normal;font-family:Menlo,'DejaVu Sans Mono',consolas,'Courier New',monospace\"></pre>\n"
      ],
      "text/plain": []
     },
     "metadata": {},
     "output_type": "display_data"
    },
    {
     "name": "stderr",
     "output_type": "stream",
     "text": [
      "Sampling 4 chains for 1_000 tune and 1_000 draw iterations (4_000 + 4_000 draws total) took 57 seconds.\n"
     ]
    }
   ],
   "source": [
    "with model:\n",
    "    idata = pm.sample(1000, tune=1000, chains=4, random_seed=1024)"
   ]
  },
  {
   "cell_type": "code",
   "execution_count": 117,
   "id": "6a3ca203-1803-4ec7-ad29-3e06ad0a4db3",
   "metadata": {},
   "outputs": [
    {
     "data": {
      "text/html": [
       "<div>\n",
       "<style scoped>\n",
       "    .dataframe tbody tr th:only-of-type {\n",
       "        vertical-align: middle;\n",
       "    }\n",
       "\n",
       "    .dataframe tbody tr th {\n",
       "        vertical-align: top;\n",
       "    }\n",
       "\n",
       "    .dataframe thead th {\n",
       "        text-align: right;\n",
       "    }\n",
       "</style>\n",
       "<table border=\"1\" class=\"dataframe\">\n",
       "  <thead>\n",
       "    <tr style=\"text-align: right;\">\n",
       "      <th></th>\n",
       "      <th>mean</th>\n",
       "      <th>sd</th>\n",
       "      <th>hdi_3%</th>\n",
       "      <th>hdi_97%</th>\n",
       "      <th>mcse_mean</th>\n",
       "      <th>mcse_sd</th>\n",
       "      <th>ess_bulk</th>\n",
       "      <th>ess_tail</th>\n",
       "      <th>r_hat</th>\n",
       "    </tr>\n",
       "    <tr>\n",
       "      <th>feature</th>\n",
       "      <th></th>\n",
       "      <th></th>\n",
       "      <th></th>\n",
       "      <th></th>\n",
       "      <th></th>\n",
       "      <th></th>\n",
       "      <th></th>\n",
       "      <th></th>\n",
       "      <th></th>\n",
       "    </tr>\n",
       "  </thead>\n",
       "  <tbody>\n",
       "    <tr>\n",
       "      <th>previous_days_since_previous_release</th>\n",
       "      <td>0.82</td>\n",
       "      <td>0.58</td>\n",
       "      <td>-0.29</td>\n",
       "      <td>1.85</td>\n",
       "      <td>0.01</td>\n",
       "      <td>0.01</td>\n",
       "      <td>1597.17</td>\n",
       "      <td>1907.51</td>\n",
       "      <td>1.0</td>\n",
       "    </tr>\n",
       "    <tr>\n",
       "      <th>month_holidays</th>\n",
       "      <td>0.04</td>\n",
       "      <td>0.05</td>\n",
       "      <td>-0.06</td>\n",
       "      <td>0.13</td>\n",
       "      <td>0.00</td>\n",
       "      <td>0.00</td>\n",
       "      <td>3758.51</td>\n",
       "      <td>2503.46</td>\n",
       "      <td>1.0</td>\n",
       "    </tr>\n",
       "    <tr>\n",
       "      <th>WD_Thursday</th>\n",
       "      <td>-0.10</td>\n",
       "      <td>0.19</td>\n",
       "      <td>-0.46</td>\n",
       "      <td>0.24</td>\n",
       "      <td>0.00</td>\n",
       "      <td>0.00</td>\n",
       "      <td>2697.63</td>\n",
       "      <td>3005.24</td>\n",
       "      <td>1.0</td>\n",
       "    </tr>\n",
       "    <tr>\n",
       "      <th>WD_Wednesday</th>\n",
       "      <td>-0.39</td>\n",
       "      <td>0.19</td>\n",
       "      <td>-0.77</td>\n",
       "      <td>-0.06</td>\n",
       "      <td>0.00</td>\n",
       "      <td>0.00</td>\n",
       "      <td>2628.77</td>\n",
       "      <td>2853.31</td>\n",
       "      <td>1.0</td>\n",
       "    </tr>\n",
       "    <tr>\n",
       "      <th>WD_Saturday</th>\n",
       "      <td>-0.55</td>\n",
       "      <td>0.21</td>\n",
       "      <td>-0.96</td>\n",
       "      <td>-0.17</td>\n",
       "      <td>0.00</td>\n",
       "      <td>0.00</td>\n",
       "      <td>2847.25</td>\n",
       "      <td>2532.33</td>\n",
       "      <td>1.0</td>\n",
       "    </tr>\n",
       "    <tr>\n",
       "      <th>days_since_previous_release</th>\n",
       "      <td>-0.63</td>\n",
       "      <td>0.58</td>\n",
       "      <td>-1.65</td>\n",
       "      <td>0.48</td>\n",
       "      <td>0.01</td>\n",
       "      <td>0.01</td>\n",
       "      <td>1597.14</td>\n",
       "      <td>1869.76</td>\n",
       "      <td>1.0</td>\n",
       "    </tr>\n",
       "    <tr>\n",
       "      <th>WD_Tuesday</th>\n",
       "      <td>-0.93</td>\n",
       "      <td>0.21</td>\n",
       "      <td>-1.30</td>\n",
       "      <td>-0.53</td>\n",
       "      <td>0.00</td>\n",
       "      <td>0.00</td>\n",
       "      <td>2786.32</td>\n",
       "      <td>2940.91</td>\n",
       "      <td>1.0</td>\n",
       "    </tr>\n",
       "    <tr>\n",
       "      <th>WD_Sunday</th>\n",
       "      <td>-1.20</td>\n",
       "      <td>0.23</td>\n",
       "      <td>-1.64</td>\n",
       "      <td>-0.76</td>\n",
       "      <td>0.00</td>\n",
       "      <td>0.00</td>\n",
       "      <td>2926.73</td>\n",
       "      <td>2944.18</td>\n",
       "      <td>1.0</td>\n",
       "    </tr>\n",
       "    <tr>\n",
       "      <th>previous_release</th>\n",
       "      <td>-1.61</td>\n",
       "      <td>0.38</td>\n",
       "      <td>-2.36</td>\n",
       "      <td>-0.93</td>\n",
       "      <td>0.01</td>\n",
       "      <td>0.00</td>\n",
       "      <td>4341.04</td>\n",
       "      <td>2689.92</td>\n",
       "      <td>1.0</td>\n",
       "    </tr>\n",
       "    <tr>\n",
       "      <th>WD_Monday</th>\n",
       "      <td>-1.64</td>\n",
       "      <td>0.26</td>\n",
       "      <td>-2.15</td>\n",
       "      <td>-1.14</td>\n",
       "      <td>0.00</td>\n",
       "      <td>0.00</td>\n",
       "      <td>3284.68</td>\n",
       "      <td>2709.52</td>\n",
       "      <td>1.0</td>\n",
       "    </tr>\n",
       "  </tbody>\n",
       "</table>\n",
       "</div>"
      ],
      "text/plain": [
       "                                      mean    sd  hdi_3%  hdi_97%  mcse_mean  \\\n",
       "feature                                                                        \n",
       "previous_days_since_previous_release  0.82  0.58   -0.29     1.85       0.01   \n",
       "month_holidays                        0.04  0.05   -0.06     0.13       0.00   \n",
       "WD_Thursday                          -0.10  0.19   -0.46     0.24       0.00   \n",
       "WD_Wednesday                         -0.39  0.19   -0.77    -0.06       0.00   \n",
       "WD_Saturday                          -0.55  0.21   -0.96    -0.17       0.00   \n",
       "days_since_previous_release          -0.63  0.58   -1.65     0.48       0.01   \n",
       "WD_Tuesday                           -0.93  0.21   -1.30    -0.53       0.00   \n",
       "WD_Sunday                            -1.20  0.23   -1.64    -0.76       0.00   \n",
       "previous_release                     -1.61  0.38   -2.36    -0.93       0.01   \n",
       "WD_Monday                            -1.64  0.26   -2.15    -1.14       0.00   \n",
       "\n",
       "                                      mcse_sd  ess_bulk  ess_tail  r_hat  \n",
       "feature                                                                   \n",
       "previous_days_since_previous_release     0.01   1597.17   1907.51    1.0  \n",
       "month_holidays                           0.00   3758.51   2503.46    1.0  \n",
       "WD_Thursday                              0.00   2697.63   3005.24    1.0  \n",
       "WD_Wednesday                             0.00   2628.77   2853.31    1.0  \n",
       "WD_Saturday                              0.00   2847.25   2532.33    1.0  \n",
       "days_since_previous_release              0.01   1597.14   1869.76    1.0  \n",
       "WD_Tuesday                               0.00   2786.32   2940.91    1.0  \n",
       "WD_Sunday                                0.00   2926.73   2944.18    1.0  \n",
       "previous_release                         0.00   4341.04   2689.92    1.0  \n",
       "WD_Monday                                0.00   3284.68   2709.52    1.0  "
      ]
     },
     "execution_count": 117,
     "metadata": {},
     "output_type": "execute_result"
    }
   ],
   "source": [
    "weights_df = az.summary(idata, round_to=2, var_names=\"weights\")\n",
    "weights_df[\"feature\"] = feature_names\n",
    "weights_df = weights_df.reset_index().drop(columns=[\"index\"]).set_index(\"feature\").sort_values(by=[\"mean\"], ascending=False)\n",
    "weights_df"
   ]
  },
  {
   "cell_type": "markdown",
   "id": "2aefd827-bac0-41a6-8ec9-9a70f0a7c306",
   "metadata": {},
   "source": [
    "### Out-of-Sample Evaluation"
   ]
  },
  {
   "cell_type": "code",
   "execution_count": 118,
   "id": "fe734eef-9072-4907-99ff-81d08fe73d38",
   "metadata": {},
   "outputs": [
    {
     "name": "stderr",
     "output_type": "stream",
     "text": [
      "Sampling: [release]\n"
     ]
    },
    {
     "data": {
      "application/vnd.jupyter.widget-view+json": {
       "model_id": "2e991647bbce4d7baae06ec02b581d22",
       "version_major": 2,
       "version_minor": 0
      },
      "text/plain": [
       "Output()"
      ]
     },
     "metadata": {},
     "output_type": "display_data"
    },
    {
     "data": {
      "text/html": [
       "<pre style=\"white-space:pre;overflow-x:auto;line-height:normal;font-family:Menlo,'DejaVu Sans Mono',consolas,'Courier New',monospace\"></pre>\n"
      ],
      "text/plain": []
     },
     "metadata": {},
     "output_type": "display_data"
    }
   ],
   "source": [
    "with model:\n",
    "    pm.set_data({\"features\" : test_df[feature_names].T})\n",
    "    pred_test = pm.sample_posterior_predictive(idata, predictions=True, var_names=[\"release\"])"
   ]
  },
  {
   "cell_type": "code",
   "execution_count": 119,
   "id": "76aae214-cd5c-4b61-ae36-55b4921234fd",
   "metadata": {},
   "outputs": [],
   "source": [
    "test_df[\"release_pred\"] = [mode(p)[0] for p in pred_test[\"predictions\"][\"release\"].stack(all_draws=[\"chain\", \"draw\"]).values]"
   ]
  },
  {
   "cell_type": "code",
   "execution_count": 120,
   "id": "50894509-4cca-45fd-b9eb-c34e6fa96b49",
   "metadata": {},
   "outputs": [
    {
     "data": {
      "text/plain": [
       "release_pred\n",
       "0    325\n",
       "Name: count, dtype: int64"
      ]
     },
     "execution_count": 120,
     "metadata": {},
     "output_type": "execute_result"
    }
   ],
   "source": [
    "test_df[\"release_pred\"].value_counts()"
   ]
  },
  {
   "cell_type": "code",
   "execution_count": 121,
   "id": "9b7b5514-cefa-47a9-895a-7a5067916775",
   "metadata": {},
   "outputs": [
    {
     "data": {
      "text/plain": [
       "release\n",
       "0    269\n",
       "1     56\n",
       "Name: count, dtype: Int64"
      ]
     },
     "execution_count": 121,
     "metadata": {},
     "output_type": "execute_result"
    }
   ],
   "source": [
    "test_df[\"release\"].value_counts()"
   ]
  },
  {
   "cell_type": "code",
   "execution_count": 106,
   "id": "6ef1d379-0dfa-4421-aba9-e1cf12c6a9a9",
   "metadata": {},
   "outputs": [
    {
     "ename": "ZeroDivisionError",
     "evalue": "division by zero",
     "output_type": "error",
     "traceback": [
      "\u001b[0;31m---------------------------------------------------------------------------\u001b[0m",
      "\u001b[0;31mZeroDivisionError\u001b[0m                         Traceback (most recent call last)",
      "Cell \u001b[0;32mIn[106], line 1\u001b[0m\n\u001b[0;32m----> 1\u001b[0m \u001b[43mprecision_and_recall\u001b[49m\u001b[43m(\u001b[49m\u001b[43mtest_df\u001b[49m\u001b[43m)\u001b[49m\n",
      "Cell \u001b[0;32mIn[4], line 6\u001b[0m, in \u001b[0;36mprecision_and_recall\u001b[0;34m(df, true_col, pred_col)\u001b[0m\n\u001b[1;32m      3\u001b[0m false_positives \u001b[38;5;241m=\u001b[39m \u001b[38;5;28mlen\u001b[39m(df[(df[true_col] \u001b[38;5;241m!=\u001b[39m \u001b[38;5;241m1\u001b[39m) \u001b[38;5;241m&\u001b[39m (df[pred_col] \u001b[38;5;241m==\u001b[39m \u001b[38;5;241m1\u001b[39m)])\n\u001b[1;32m      4\u001b[0m false_negatives \u001b[38;5;241m=\u001b[39m \u001b[38;5;28mlen\u001b[39m(df[(df[true_col] \u001b[38;5;241m==\u001b[39m \u001b[38;5;241m1\u001b[39m) \u001b[38;5;241m&\u001b[39m (df[pred_col] \u001b[38;5;241m!=\u001b[39m \u001b[38;5;241m1\u001b[39m)])\n\u001b[0;32m----> 6\u001b[0m \u001b[38;5;28;01mreturn\u001b[39;00m (np\u001b[38;5;241m.\u001b[39mround(\u001b[43mtrue_positives\u001b[49m\u001b[43m \u001b[49m\u001b[38;5;241;43m/\u001b[39;49m\u001b[43m \u001b[49m\u001b[43m(\u001b[49m\u001b[43mtrue_positives\u001b[49m\u001b[43m \u001b[49m\u001b[38;5;241;43m+\u001b[39;49m\u001b[43m \u001b[49m\u001b[43mfalse_positives\u001b[49m\u001b[43m)\u001b[49m, \u001b[38;5;241m3\u001b[39m),\n\u001b[1;32m      7\u001b[0m         np\u001b[38;5;241m.\u001b[39mround(true_positives \u001b[38;5;241m/\u001b[39m (true_positives \u001b[38;5;241m+\u001b[39m false_negatives), \u001b[38;5;241m3\u001b[39m))\n",
      "\u001b[0;31mZeroDivisionError\u001b[0m: division by zero"
     ]
    }
   ],
   "source": [
    "precision_and_recall(test_df)"
   ]
  },
  {
   "cell_type": "code",
   "execution_count": 82,
   "id": "6ccc7506-e560-48ce-9344-5b37a4bf372a",
   "metadata": {},
   "outputs": [],
   "source": [
    "test_df[\"release_pred_prob\"] = np.mean(pred_test[\"predictions\"][\"release\"].stack(all_draws=[\"chain\", \"draw\"]).values, axis=1)"
   ]
  },
  {
   "cell_type": "code",
   "execution_count": 66,
   "id": "52ed9074-ae79-4627-a26e-6bc7bc6bfae3",
   "metadata": {},
   "outputs": [
    {
     "ename": "KeyError",
     "evalue": "'prob_of_release'",
     "output_type": "error",
     "traceback": [
      "\u001b[0;31m---------------------------------------------------------------------------\u001b[0m",
      "\u001b[0;31mKeyError\u001b[0m                                  Traceback (most recent call last)",
      "File \u001b[0;32m~/miniconda3/lib/python3.12/site-packages/pandas/core/indexes/base.py:3805\u001b[0m, in \u001b[0;36mIndex.get_loc\u001b[0;34m(self, key)\u001b[0m\n\u001b[1;32m   3804\u001b[0m \u001b[38;5;28;01mtry\u001b[39;00m:\n\u001b[0;32m-> 3805\u001b[0m     \u001b[38;5;28;01mreturn\u001b[39;00m \u001b[38;5;28;43mself\u001b[39;49m\u001b[38;5;241;43m.\u001b[39;49m\u001b[43m_engine\u001b[49m\u001b[38;5;241;43m.\u001b[39;49m\u001b[43mget_loc\u001b[49m\u001b[43m(\u001b[49m\u001b[43mcasted_key\u001b[49m\u001b[43m)\u001b[49m\n\u001b[1;32m   3806\u001b[0m \u001b[38;5;28;01mexcept\u001b[39;00m \u001b[38;5;167;01mKeyError\u001b[39;00m \u001b[38;5;28;01mas\u001b[39;00m err:\n",
      "File \u001b[0;32mindex.pyx:167\u001b[0m, in \u001b[0;36mpandas._libs.index.IndexEngine.get_loc\u001b[0;34m()\u001b[0m\n",
      "File \u001b[0;32mindex.pyx:196\u001b[0m, in \u001b[0;36mpandas._libs.index.IndexEngine.get_loc\u001b[0;34m()\u001b[0m\n",
      "File \u001b[0;32mpandas/_libs/hashtable_class_helper.pxi:7081\u001b[0m, in \u001b[0;36mpandas._libs.hashtable.PyObjectHashTable.get_item\u001b[0;34m()\u001b[0m\n",
      "File \u001b[0;32mpandas/_libs/hashtable_class_helper.pxi:7089\u001b[0m, in \u001b[0;36mpandas._libs.hashtable.PyObjectHashTable.get_item\u001b[0;34m()\u001b[0m\n",
      "\u001b[0;31mKeyError\u001b[0m: 'prob_of_release'",
      "\nThe above exception was the direct cause of the following exception:\n",
      "\u001b[0;31mKeyError\u001b[0m                                  Traceback (most recent call last)",
      "Cell \u001b[0;32mIn[66], line 1\u001b[0m\n\u001b[0;32m----> 1\u001b[0m ax \u001b[38;5;241m=\u001b[39m sns\u001b[38;5;241m.\u001b[39mhistplot(x\u001b[38;5;241m=\u001b[39m\u001b[43mtest_df\u001b[49m\u001b[43m[\u001b[49m\u001b[38;5;124;43m\"\u001b[39;49m\u001b[38;5;124;43mprob_of_release\u001b[39;49m\u001b[38;5;124;43m\"\u001b[39;49m\u001b[43m]\u001b[49m, alpha\u001b[38;5;241m=\u001b[39m\u001b[38;5;241m0.8\u001b[39m, label\u001b[38;5;241m=\u001b[39m\u001b[38;5;124m\"\u001b[39m\u001b[38;5;124mActual Test Set Distribution\u001b[39m\u001b[38;5;124m\"\u001b[39m)\n\u001b[1;32m      2\u001b[0m sns\u001b[38;5;241m.\u001b[39mhistplot(x\u001b[38;5;241m=\u001b[39mtest_df[\u001b[38;5;124m\"\u001b[39m\u001b[38;5;124mrelease_pred_prob\u001b[39m\u001b[38;5;124m\"\u001b[39m], ax\u001b[38;5;241m=\u001b[39max, label\u001b[38;5;241m=\u001b[39m\u001b[38;5;124m\"\u001b[39m\u001b[38;5;124mPredicted Test Set Distribution\u001b[39m\u001b[38;5;124m\"\u001b[39m)\n\u001b[1;32m      3\u001b[0m ax\u001b[38;5;241m.\u001b[39mlegend()\n",
      "File \u001b[0;32m~/miniconda3/lib/python3.12/site-packages/pandas/core/frame.py:4102\u001b[0m, in \u001b[0;36mDataFrame.__getitem__\u001b[0;34m(self, key)\u001b[0m\n\u001b[1;32m   4100\u001b[0m \u001b[38;5;28;01mif\u001b[39;00m \u001b[38;5;28mself\u001b[39m\u001b[38;5;241m.\u001b[39mcolumns\u001b[38;5;241m.\u001b[39mnlevels \u001b[38;5;241m>\u001b[39m \u001b[38;5;241m1\u001b[39m:\n\u001b[1;32m   4101\u001b[0m     \u001b[38;5;28;01mreturn\u001b[39;00m \u001b[38;5;28mself\u001b[39m\u001b[38;5;241m.\u001b[39m_getitem_multilevel(key)\n\u001b[0;32m-> 4102\u001b[0m indexer \u001b[38;5;241m=\u001b[39m \u001b[38;5;28;43mself\u001b[39;49m\u001b[38;5;241;43m.\u001b[39;49m\u001b[43mcolumns\u001b[49m\u001b[38;5;241;43m.\u001b[39;49m\u001b[43mget_loc\u001b[49m\u001b[43m(\u001b[49m\u001b[43mkey\u001b[49m\u001b[43m)\u001b[49m\n\u001b[1;32m   4103\u001b[0m \u001b[38;5;28;01mif\u001b[39;00m is_integer(indexer):\n\u001b[1;32m   4104\u001b[0m     indexer \u001b[38;5;241m=\u001b[39m [indexer]\n",
      "File \u001b[0;32m~/miniconda3/lib/python3.12/site-packages/pandas/core/indexes/base.py:3812\u001b[0m, in \u001b[0;36mIndex.get_loc\u001b[0;34m(self, key)\u001b[0m\n\u001b[1;32m   3807\u001b[0m     \u001b[38;5;28;01mif\u001b[39;00m \u001b[38;5;28misinstance\u001b[39m(casted_key, \u001b[38;5;28mslice\u001b[39m) \u001b[38;5;129;01mor\u001b[39;00m (\n\u001b[1;32m   3808\u001b[0m         \u001b[38;5;28misinstance\u001b[39m(casted_key, abc\u001b[38;5;241m.\u001b[39mIterable)\n\u001b[1;32m   3809\u001b[0m         \u001b[38;5;129;01mand\u001b[39;00m \u001b[38;5;28many\u001b[39m(\u001b[38;5;28misinstance\u001b[39m(x, \u001b[38;5;28mslice\u001b[39m) \u001b[38;5;28;01mfor\u001b[39;00m x \u001b[38;5;129;01min\u001b[39;00m casted_key)\n\u001b[1;32m   3810\u001b[0m     ):\n\u001b[1;32m   3811\u001b[0m         \u001b[38;5;28;01mraise\u001b[39;00m InvalidIndexError(key)\n\u001b[0;32m-> 3812\u001b[0m     \u001b[38;5;28;01mraise\u001b[39;00m \u001b[38;5;167;01mKeyError\u001b[39;00m(key) \u001b[38;5;28;01mfrom\u001b[39;00m \u001b[38;5;21;01merr\u001b[39;00m\n\u001b[1;32m   3813\u001b[0m \u001b[38;5;28;01mexcept\u001b[39;00m \u001b[38;5;167;01mTypeError\u001b[39;00m:\n\u001b[1;32m   3814\u001b[0m     \u001b[38;5;66;03m# If we have a listlike key, _check_indexing_error will raise\u001b[39;00m\n\u001b[1;32m   3815\u001b[0m     \u001b[38;5;66;03m#  InvalidIndexError. Otherwise we fall through and re-raise\u001b[39;00m\n\u001b[1;32m   3816\u001b[0m     \u001b[38;5;66;03m#  the TypeError.\u001b[39;00m\n\u001b[1;32m   3817\u001b[0m     \u001b[38;5;28mself\u001b[39m\u001b[38;5;241m.\u001b[39m_check_indexing_error(key)\n",
      "\u001b[0;31mKeyError\u001b[0m: 'prob_of_release'"
     ]
    }
   ],
   "source": [
    "ax = sns.histplot(x=test_df[\"prob_of_release\"], alpha=0.8, label=\"Actual Test Set Distribution\")\n",
    "sns.histplot(x=test_df[\"release_pred_prob\"], ax=ax, label=\"Predicted Test Set Distribution\")\n",
    "ax.legend()\n",
    "plt.show()"
   ]
  },
  {
   "cell_type": "code",
   "execution_count": null,
   "id": "f98d042f-6c68-4448-8ef8-86c96f1e64f0",
   "metadata": {},
   "outputs": [],
   "source": []
  }
 ],
 "metadata": {
  "kernelspec": {
   "display_name": "Python 3 (ipykernel)",
   "language": "python",
   "name": "python3"
  },
  "language_info": {
   "codemirror_mode": {
    "name": "ipython",
    "version": 3
   },
   "file_extension": ".py",
   "mimetype": "text/x-python",
   "name": "python",
   "nbconvert_exporter": "python",
   "pygments_lexer": "ipython3",
   "version": "3.12.7"
  }
 },
 "nbformat": 4,
 "nbformat_minor": 5
}
